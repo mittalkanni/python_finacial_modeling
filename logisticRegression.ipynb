{
 "cells": [
  {
   "cell_type": "code",
   "execution_count": 65,
   "metadata": {},
   "outputs": [
    {
     "name": "stdout",
     "output_type": "stream",
     "text": [
      "Requirement already satisfied: pandas in /Library/Frameworks/Python.framework/Versions/3.12/lib/python3.12/site-packages (2.2.2)\n",
      "Requirement already satisfied: numpy>=1.26.0 in /Library/Frameworks/Python.framework/Versions/3.12/lib/python3.12/site-packages (from pandas) (1.26.4)\n",
      "Requirement already satisfied: python-dateutil>=2.8.2 in /Users/Utkrisht/Library/Python/3.12/lib/python/site-packages (from pandas) (2.9.0.post0)\n",
      "Requirement already satisfied: pytz>=2020.1 in /Library/Frameworks/Python.framework/Versions/3.12/lib/python3.12/site-packages (from pandas) (2024.1)\n",
      "Requirement already satisfied: tzdata>=2022.7 in /Library/Frameworks/Python.framework/Versions/3.12/lib/python3.12/site-packages (from pandas) (2024.1)\n",
      "Requirement already satisfied: six>=1.5 in /Users/Utkrisht/Library/Python/3.12/lib/python/site-packages (from python-dateutil>=2.8.2->pandas) (1.16.0)\n",
      "Note: you may need to restart the kernel to use updated packages.\n",
      "Requirement already satisfied: matplotlib in /Library/Frameworks/Python.framework/Versions/3.12/lib/python3.12/site-packages (3.8.4)\n",
      "Requirement already satisfied: contourpy>=1.0.1 in /Library/Frameworks/Python.framework/Versions/3.12/lib/python3.12/site-packages (from matplotlib) (1.2.1)\n",
      "Requirement already satisfied: cycler>=0.10 in /Library/Frameworks/Python.framework/Versions/3.12/lib/python3.12/site-packages (from matplotlib) (0.12.1)\n",
      "Requirement already satisfied: fonttools>=4.22.0 in /Library/Frameworks/Python.framework/Versions/3.12/lib/python3.12/site-packages (from matplotlib) (4.51.0)\n",
      "Requirement already satisfied: kiwisolver>=1.3.1 in /Library/Frameworks/Python.framework/Versions/3.12/lib/python3.12/site-packages (from matplotlib) (1.4.5)\n",
      "Requirement already satisfied: numpy>=1.21 in /Library/Frameworks/Python.framework/Versions/3.12/lib/python3.12/site-packages (from matplotlib) (1.26.4)\n",
      "Requirement already satisfied: packaging>=20.0 in /Users/Utkrisht/Library/Python/3.12/lib/python/site-packages (from matplotlib) (24.0)\n",
      "Requirement already satisfied: pillow>=8 in /Library/Frameworks/Python.framework/Versions/3.12/lib/python3.12/site-packages (from matplotlib) (10.3.0)\n",
      "Requirement already satisfied: pyparsing>=2.3.1 in /Library/Frameworks/Python.framework/Versions/3.12/lib/python3.12/site-packages (from matplotlib) (3.1.2)\n",
      "Requirement already satisfied: python-dateutil>=2.7 in /Users/Utkrisht/Library/Python/3.12/lib/python/site-packages (from matplotlib) (2.9.0.post0)\n",
      "Requirement already satisfied: six>=1.5 in /Users/Utkrisht/Library/Python/3.12/lib/python/site-packages (from python-dateutil>=2.7->matplotlib) (1.16.0)\n",
      "Note: you may need to restart the kernel to use updated packages.\n",
      "Requirement already satisfied: openpyxl in /Library/Frameworks/Python.framework/Versions/3.12/lib/python3.12/site-packages (3.1.2)\n",
      "Requirement already satisfied: et-xmlfile in /Library/Frameworks/Python.framework/Versions/3.12/lib/python3.12/site-packages (from openpyxl) (1.1.0)\n",
      "Note: you may need to restart the kernel to use updated packages.\n",
      "Requirement already satisfied: scikit-learn in /Library/Frameworks/Python.framework/Versions/3.12/lib/python3.12/site-packages (1.4.2)\n",
      "Requirement already satisfied: numpy>=1.19.5 in /Library/Frameworks/Python.framework/Versions/3.12/lib/python3.12/site-packages (from scikit-learn) (1.26.4)\n",
      "Requirement already satisfied: scipy>=1.6.0 in /Library/Frameworks/Python.framework/Versions/3.12/lib/python3.12/site-packages (from scikit-learn) (1.13.0)\n",
      "Requirement already satisfied: joblib>=1.2.0 in /Library/Frameworks/Python.framework/Versions/3.12/lib/python3.12/site-packages (from scikit-learn) (1.4.0)\n",
      "Requirement already satisfied: threadpoolctl>=2.0.0 in /Library/Frameworks/Python.framework/Versions/3.12/lib/python3.12/site-packages (from scikit-learn) (3.4.0)\n",
      "Note: you may need to restart the kernel to use updated packages.\n"
     ]
    }
   ],
   "source": [
    "%pip install pandas\n",
    "%pip install matplotlib\n",
    "%pip install openpyxl\n",
    "%pip install scikit-learn"
   ]
  },
  {
   "cell_type": "code",
   "execution_count": 66,
   "metadata": {},
   "outputs": [],
   "source": [
    "import pandas as pd\n",
    "\n",
    "fd = pd.read_csv(\"training.csv\")"
   ]
  },
  {
   "cell_type": "code",
   "execution_count": 67,
   "metadata": {},
   "outputs": [
    {
     "data": {
      "text/html": [
       "<div>\n",
       "<style scoped>\n",
       "    .dataframe tbody tr th:only-of-type {\n",
       "        vertical-align: middle;\n",
       "    }\n",
       "\n",
       "    .dataframe tbody tr th {\n",
       "        vertical-align: top;\n",
       "    }\n",
       "\n",
       "    .dataframe thead th {\n",
       "        text-align: right;\n",
       "    }\n",
       "</style>\n",
       "<table border=\"1\" class=\"dataframe\">\n",
       "  <thead>\n",
       "    <tr style=\"text-align: right;\">\n",
       "      <th></th>\n",
       "      <th>RefId</th>\n",
       "      <th>IsBadBuy</th>\n",
       "      <th>PurchDate</th>\n",
       "      <th>Auction</th>\n",
       "      <th>VehYear</th>\n",
       "      <th>VehicleAge</th>\n",
       "      <th>Make</th>\n",
       "      <th>Model</th>\n",
       "      <th>Trim</th>\n",
       "      <th>SubModel</th>\n",
       "      <th>...</th>\n",
       "      <th>MMRCurrentRetailAveragePrice</th>\n",
       "      <th>MMRCurrentRetailCleanPrice</th>\n",
       "      <th>PRIMEUNIT</th>\n",
       "      <th>AUCGUART</th>\n",
       "      <th>BYRNO</th>\n",
       "      <th>VNZIP1</th>\n",
       "      <th>VNST</th>\n",
       "      <th>VehBCost</th>\n",
       "      <th>IsOnlineSale</th>\n",
       "      <th>WarrantyCost</th>\n",
       "    </tr>\n",
       "  </thead>\n",
       "  <tbody>\n",
       "    <tr>\n",
       "      <th>0</th>\n",
       "      <td>1</td>\n",
       "      <td>0</td>\n",
       "      <td>12/07/09</td>\n",
       "      <td>ADESA</td>\n",
       "      <td>2006</td>\n",
       "      <td>3</td>\n",
       "      <td>MAZDA</td>\n",
       "      <td>MAZDA3</td>\n",
       "      <td>i</td>\n",
       "      <td>4D SEDAN I</td>\n",
       "      <td>...</td>\n",
       "      <td>11597</td>\n",
       "      <td>12409</td>\n",
       "      <td>0</td>\n",
       "      <td>0</td>\n",
       "      <td>21973</td>\n",
       "      <td>33619</td>\n",
       "      <td>FL</td>\n",
       "      <td>7100.0</td>\n",
       "      <td>0</td>\n",
       "      <td>1113</td>\n",
       "    </tr>\n",
       "    <tr>\n",
       "      <th>1</th>\n",
       "      <td>2</td>\n",
       "      <td>0</td>\n",
       "      <td>12/07/09</td>\n",
       "      <td>ADESA</td>\n",
       "      <td>2004</td>\n",
       "      <td>5</td>\n",
       "      <td>DODGE</td>\n",
       "      <td>1500 RAM PICKUP 2WD</td>\n",
       "      <td>ST</td>\n",
       "      <td>QUAD CAB 4.7L SLT</td>\n",
       "      <td>...</td>\n",
       "      <td>11374</td>\n",
       "      <td>12791</td>\n",
       "      <td>0</td>\n",
       "      <td>0</td>\n",
       "      <td>19638</td>\n",
       "      <td>33619</td>\n",
       "      <td>FL</td>\n",
       "      <td>7600.0</td>\n",
       "      <td>0</td>\n",
       "      <td>1053</td>\n",
       "    </tr>\n",
       "    <tr>\n",
       "      <th>2</th>\n",
       "      <td>3</td>\n",
       "      <td>0</td>\n",
       "      <td>12/07/09</td>\n",
       "      <td>ADESA</td>\n",
       "      <td>2005</td>\n",
       "      <td>4</td>\n",
       "      <td>DODGE</td>\n",
       "      <td>STRATUS V6</td>\n",
       "      <td>SXT</td>\n",
       "      <td>4D SEDAN SXT FFV</td>\n",
       "      <td>...</td>\n",
       "      <td>7146</td>\n",
       "      <td>8702</td>\n",
       "      <td>0</td>\n",
       "      <td>0</td>\n",
       "      <td>19638</td>\n",
       "      <td>33619</td>\n",
       "      <td>FL</td>\n",
       "      <td>4900.0</td>\n",
       "      <td>0</td>\n",
       "      <td>1389</td>\n",
       "    </tr>\n",
       "    <tr>\n",
       "      <th>3</th>\n",
       "      <td>4</td>\n",
       "      <td>0</td>\n",
       "      <td>12/07/09</td>\n",
       "      <td>ADESA</td>\n",
       "      <td>2004</td>\n",
       "      <td>5</td>\n",
       "      <td>DODGE</td>\n",
       "      <td>NEON</td>\n",
       "      <td>SXT</td>\n",
       "      <td>4D SEDAN</td>\n",
       "      <td>...</td>\n",
       "      <td>4375</td>\n",
       "      <td>5518</td>\n",
       "      <td>0</td>\n",
       "      <td>0</td>\n",
       "      <td>19638</td>\n",
       "      <td>33619</td>\n",
       "      <td>FL</td>\n",
       "      <td>4100.0</td>\n",
       "      <td>0</td>\n",
       "      <td>630</td>\n",
       "    </tr>\n",
       "    <tr>\n",
       "      <th>4</th>\n",
       "      <td>5</td>\n",
       "      <td>0</td>\n",
       "      <td>12/07/09</td>\n",
       "      <td>ADESA</td>\n",
       "      <td>2005</td>\n",
       "      <td>4</td>\n",
       "      <td>FORD</td>\n",
       "      <td>FOCUS</td>\n",
       "      <td>ZX3</td>\n",
       "      <td>2D COUPE ZX3</td>\n",
       "      <td>...</td>\n",
       "      <td>6739</td>\n",
       "      <td>7911</td>\n",
       "      <td>0</td>\n",
       "      <td>0</td>\n",
       "      <td>19638</td>\n",
       "      <td>33619</td>\n",
       "      <td>FL</td>\n",
       "      <td>4000.0</td>\n",
       "      <td>0</td>\n",
       "      <td>1020</td>\n",
       "    </tr>\n",
       "  </tbody>\n",
       "</table>\n",
       "<p>5 rows × 34 columns</p>\n",
       "</div>"
      ],
      "text/plain": [
       "   RefId  IsBadBuy PurchDate Auction  VehYear  VehicleAge   Make  \\\n",
       "0      1         0  12/07/09   ADESA     2006           3  MAZDA   \n",
       "1      2         0  12/07/09   ADESA     2004           5  DODGE   \n",
       "2      3         0  12/07/09   ADESA     2005           4  DODGE   \n",
       "3      4         0  12/07/09   ADESA     2004           5  DODGE   \n",
       "4      5         0  12/07/09   ADESA     2005           4   FORD   \n",
       "\n",
       "                 Model Trim           SubModel  ...  \\\n",
       "0               MAZDA3    i         4D SEDAN I  ...   \n",
       "1  1500 RAM PICKUP 2WD   ST  QUAD CAB 4.7L SLT  ...   \n",
       "2           STRATUS V6  SXT   4D SEDAN SXT FFV  ...   \n",
       "3                 NEON  SXT           4D SEDAN  ...   \n",
       "4                FOCUS  ZX3       2D COUPE ZX3  ...   \n",
       "\n",
       "  MMRCurrentRetailAveragePrice MMRCurrentRetailCleanPrice  PRIMEUNIT AUCGUART  \\\n",
       "0                        11597                      12409          0        0   \n",
       "1                        11374                      12791          0        0   \n",
       "2                         7146                       8702          0        0   \n",
       "3                         4375                       5518          0        0   \n",
       "4                         6739                       7911          0        0   \n",
       "\n",
       "   BYRNO VNZIP1 VNST VehBCost  IsOnlineSale  WarrantyCost  \n",
       "0  21973  33619   FL   7100.0             0          1113  \n",
       "1  19638  33619   FL   7600.0             0          1053  \n",
       "2  19638  33619   FL   4900.0             0          1389  \n",
       "3  19638  33619   FL   4100.0             0           630  \n",
       "4  19638  33619   FL   4000.0             0          1020  \n",
       "\n",
       "[5 rows x 34 columns]"
      ]
     },
     "execution_count": 67,
     "metadata": {},
     "output_type": "execute_result"
    }
   ],
   "source": [
    "fd.head()"
   ]
  },
  {
   "cell_type": "code",
   "execution_count": 68,
   "metadata": {},
   "outputs": [
    {
     "data": {
      "text/plain": [
       "array([0, 1])"
      ]
     },
     "execution_count": 68,
     "metadata": {},
     "output_type": "execute_result"
    }
   ],
   "source": [
    "fd['IsBadBuy'].unique()\n",
    "\n"
   ]
  },
  {
   "cell_type": "code",
   "execution_count": 69,
   "metadata": {},
   "outputs": [
    {
     "name": "stdout",
     "output_type": "stream",
     "text": [
      "{'MAZDA': 0, 'DODGE': 1, 'FORD': 2, 'MITSUBISHI': 3, 'KIA': 4, 'GMC': 5, 'NISSAN': 6, 'CHEVROLET': 7, 'SATURN': 8, 'CHRYSLER': 9, 'MERCURY': 10, 'HYUNDAI': 11, 'TOYOTA': 12, 'PONTIAC': 13, 'SUZUKI': 14, 'JEEP': 15, 'HONDA': 16, 'OLDSMOBILE': 17, 'BUICK': 18, 'SCION': 19, 'VOLKSWAGEN': 20, 'ISUZU': 21, 'LINCOLN': 22, 'MINI': 23, 'SUBARU': 24, 'CADILLAC': 25, 'VOLVO': 26, 'INFINITI': 27, 'PLYMOUTH': 28, 'LEXUS': 29, 'ACURA': 30, 'TOYOTA SCION': 31, 'HUMMER': 32}\n",
      "{'MAZDA3': 0, '1500 RAM PICKUP 2WD': 1, 'STRATUS V6': 2, 'NEON': 3, 'FOCUS': 4, 'GALANT 4C': 5, 'SPECTRA': 6, 'TAURUS': 7, 'FIVE HUNDRED': 8, '1500 SIERRA PICKUP 2': 9, 'F150 PICKUP 2WD V6': 10, 'CARAVAN GRAND FWD V6': 11, 'ALTIMA': 12, 'CAVALIER 4C': 13, 'TRAILBLAZER 2WD 6C': 14, 'VUE 2WD 4C': 15, 'IMPALA': 16, 'ENVOY XL 2WD 6C': 17, 'VOYAGER FWD V6': 18, 'MONTE CARLO': 19, 'VENTURE FWD V6': 20, 'HHR': 21, 'SABLE': 22, 'ENVOY XL 4WD 6C': 23, 'DURANGO 4WD V8': 24, 'SUBURBAN 1500 2WD': 25, 'EXPLORER 2WD V6': 26, '300': 27, 'MUSTANG V6': 28, 'AVALANCHE 1500 2WD V': 29, 'WINDSTAR FWD V6': 30, 'FREESTAR FWD V6': 31, 'SONATA V6': 32, 'CALIBER': 33, 'SENTRA': 34, 'PACIFICA FWD': 35, 'IMPALA V6': 36, 'XTERRA 2WD V6': 37, 'COROLLA': 38, 'G6 V6': 39, 'ION': 40, 'DURANGO 2WD V8': 41, 'FUSION 4C': 42, '4 RUNNER 2WD V8': 43, 'GRAND PRIX': 44, 'SEBRING V6': 45, 'FORENZA': 46, 'MAZDA5': 47, 'LIBERTY 2WD V6': 48, 'DAKOTA PICKUP 2WD V6': 49, 'TAHOE 2WD': 50, 'COBALT': 51, 'EXPEDITION 2WD V8': 52, 'ELEMENT 2WD': 53, 'SUNFIRE': 54, 'RELAY 2WD V6': 55, 'FREESTYLE 2WD V6': 56, 'F150 PICKUP 2WD V8': 57, 'TRAILBLAZER EXT 2WD': 58, 'PT CRUISER': 59, 'TRACKER 2WD V6': 60, 'DURANGO 2WD V6': 61, 'MALIBU V6': 62, 'ALERO 4C': 63, 'TOWN & COUNTRY FWD V': 64, 'CAMRY V6': 65, 'MAGNUM V6': 66, 'EQUINOX FWD V6': 67, 'STRATUS 4C': 68, 'LIBERTY 2WD 4C': 69, 'MAZDA6': 70, 'CAMRY 4C': 71, 'FREESTYLE FWD V6': 72, 'L SERIES': 73, 'RENO': 74, 'SEBRING 4C': 75, 'SILHOUETTE': 76, 'ESCAPE 4WD V6': 77, 'OPTIMA 4C': 78, 'RANGER PICKUP 2WD V6': 79, 'G6 4C': 80, 'ENVOY 2WD 6C': 81, 'ACCENT': 82, 'UPLANDER FWD V6': 83, 'ELANTRA': 84, '1500 SILVERADO PICKU': 85, 'PARK AVENUE': 86, 'ENDEAVOR FWD': 87, 'AMANTI': 88, 'TUCSON 2WD 4C': 89, 'XB': 90, 'EXPLORER 4WD V6': 91, 'ESCAPE 2WD V6': 92, 'CARAVAN FWD V6': 93, 'TRIBUTE 2WD 4C': 94, 'SONATA 4C': 95, 'RENDEZVOUS FWD': 96, 'ACCORD 4C': 97, 'ESCAPE 2WD 4C': 98, 'MALIBU MAXX V6': 99, 'COLORADO PICKUP 2WD': 100, 'REGAL': 101, 'SANTA FE 2WD V6': 102, 'GRAND CHEROKEE 2WD V': 103, 'MALIBU 4C': 104, 'AVEO': 105, 'CHARGER V6': 106, 'AVENGER 4C': 107, 'RIO': 108, 'PATRIOT 4WD 4C': 109, 'SORENTO 4WD': 110, 'JOURNEY FWD 4C': 111, 'AURA': 112, 'AVENGER V6': 113, 'TRIBUTE 2WD V6': 114, 'F150 PICKUP 4WD V8': 115, 'FUSION V6': 116, 'TERRAZA FWD V6': 117, 'ENDEAVOR AWD': 118, 'VIBE': 119, 'TOWN & COUNTRY 2WD V': 120, 'CHARGER': 121, 'VERSA': 122, 'JETTA 5C': 123, 'SABLE 3.0L V6 EFI': 124, 'PACIFICA FWD 3.5L V6': 125, 'IMPALA 3.5L V6 SFI': 126, 'COBALT 2.2L I4 MPI': 127, 'SORENTO 4WD 3.5L V6': 128, 'UPLANDER FWD V6 3.9L': 129, 'VENTURE AWD V6': 130, 'EXPEDITION 4WD V8 5.': 131, 'TRACKER 4WD V6 2.5L': 132, 'MALIBU V6 3.5L V6 SF': 133, 'MUSTANG V6 4.0L V6 E': 134, 'LIBERTY 4WD V6 3.7L': 135, 'BRAVADA AWD V6 4.2L': 136, 'IMPALA 3.4L V6 SFI': 137, 'CHARGER V6 2.7L V6 M': 138, 'TAURUS 3.0L V6 EFI S': 139, '300 2.7L V6 MPI': 140, 'MONTE CARLO 3.5L V6': 141, 'MAGNUM V6 2.7L V6 MP': 142, 'ION 2.2L I4 EFI / SF': 143, 'AVEO 1.6L I4 EFI': 144, 'SEBRING 4C 2.4L I4 E': 145, 'MALIBU 4C 2.2L I4 MP': 146, 'FIVE HUNDRED 3.0L V6': 147, 'MALIBU MAXX V6 3.5L': 148, 'SEBRING 4C 2.4L I4 S': 149, 'SONATA V6 2.7L V6 MP': 150, 'ELANTRA 2.0L I4 MPI': 151, 'MARINER 2WD V6 3.0L': 152, 'SEBRING V6 2.7L V6 M': 153, 'TRAILBLAZER 4WD 6C 4': 154, 'PT CRUISER 2.4L I4 M': 155, 'ELANTRA MFI I-4 2.0L': 156, 'CAVALIER 4C 2.2L I4': 157, 'ASCENDER 2WD 6C 4.2L': 158, 'ALTIMA 2.5L I4 MPI': 159, 'HHR 2.2L I4 MPI': 160, 'STRATUS 4C 2.4L I4 S': 161, 'GRAND PRIX 3.8L V6 S': 162, 'PT CRUISER 2.4L I4 S': 163, 'STRATUS 4C 2.4L I4 M': 164, 'PT CRUISER 2.4L I-4': 165, 'SANTA FE 4WD V6 2.7L': 166, 'ECLIPSE': 167, 'GRAND AM V6 3.4L V6': 168, 'SONATA V6 3.3L V6 MP': 169, 'BONNEVILLE 3.8L V6 S': 170, 'EQUINOX AWD V6 3.4L': 171, 'FORENZA 2.0L I4 EFI': 172, 'CONCORDE 3.5L V6 MPI': 173, 'ION 2.2L I4 EFI': 174, 'VENTURE FWD V6 3.4L': 175, 'ION 2.0L I4 MPI': 176, 'SENTRA 2.5L I-4 EFI': 177, 'TAHOE 4WD 4.8L V8 SF': 178, 'SPORTAGE 2WD 4C 2.0L': 179, 'DURANGO 4WD V8 5.7L': 180, 'MALIBU V6 3.1L V6 SF': 181, 'WINDSTAR FWD V6 3.8L': 182, 'ALTIMA 3.5L V6 MPI': 183, 'PACIFICA AWD 3.5L V6': 184, 'SONATA 4C 2.4L I4 MP': 185, 'VIBE 1.8L I4 MPI': 186, 'MAZDA6 2.3L I4 MFI /': 187, 'EXPLORER 4WD V6 4.0L': 188, 'FOCUS 2.0L I-4 EFI D': 189, 'ACCORD V6 3.0L V6 EF': 190, 'ESCAPE 2WD V6 3.0L V': 191, 'VUE AWD 4C 2.2L I4 M': 192, 'RENDEZVOUS FWD 3.4L': 193, 'ACCENT 1.6L I4 MPI': 194, 'TOWN CAR 4.6L V8 EFI': 195, 'OPTIMA 4C 2.4L I4 MP': 196, 'FOCUS 2.0L I4 SFI': 197, 'MONTE CARLO 3.4L V6': 198, 'FREESTYLE 2WD V6 3.0': 199, 'MILAN V6': 200, 'LIBERTY 4WD V6': 201, 'CARAVAN FWD 4C': 202, 'XL-7 4WD': 203, 'FREESTYLE AWD V6': 204, 'GRAND AM V6': 205, 'S SERIES': 206, 'PACIFICA AWD': 207, 'EQUINOX AWD V6': 208, 'HIGHLANDER 2WD V6': 209, 'TRAILBLAZER EXT 4WD': 210, 'LANCER': 211, 'MAXIMA': 212, 'EXPEDITION 4WD V8': 213, 'COOPER': 214, 'ACCORD V6': 215, 'GRAND AM 4C': 216, 'MILAN 4C': 217, 'ENVOY 4WD 6C': 218, 'RENDEZVOUS AWD': 219, 'CENTURY V6': 220, 'TRAILBLAZER 4WD 6C': 221, 'TRIBUTE 4WD V6': 222, 'MONTEGO': 223, 'S10 PICKUP 2WD 4C': 224, 'GRAND CHEROKEE 4WD V': 225, '1500 RAM PICKUP 4WD': 226, 'TORRENT FWD V6': 227, 'AVALANCHE 1500 4WD V': 228, 'EXPLORER 2WD V8': 229, 'TAHOE 4WD': 230, 'GALANT V6': 231, 'NEON 2.0L I-4 SFI SO': 232, 'TAURUS 3.0L V6 EFI': 233, 'SPECTRA 2.0L I4 EFI': 234, 'PACIFICA FWD 3.8L V6': 235, 'CHARGER V6 3.5L V6 E': 236, 'CAMRY SOLARA V6 3.0L': 237, 'RIO 1.6L I4 MPI': 238, 'CIVIC': 239, 'TRAILBLAZER 2WD 6C 4': 240, 'MAGNUM V6 3.5L V6 MP': 241, 'CHARGER 3.5L V6 EFI': 242, 'LACROSSE 3.8L V6 SFI': 243, 'G6 4C 2.4L I4 MPI': 244, 'IMPALA V6 3.5L V6 SF': 245, 'MUSTANG V6 3.8L V6 E': 246, 'G6 V6 3.5L V6 SFI': 247, 'RENO 2.0L I4 EFI': 248, 'CARAVAN FWD 4C 2.4L': 249, 'ACCORD 4C 2.4L I4 MP': 250, 'EXPLORER 2WD V6 4.0L': 251, 'ALTIMA 2.5L I-4 EFI': 252, 'MAXIMA MFI V6 3.5L D': 253, '300 3.5L V6 MPI': 254, 'ECLIPSE 2.4L I4 MPI': 255, 'TAURUS 3.0L V6 EFI /': 256, 'LIBERTY 2WD V6 3.7L': 257, 'CHARGER 2.7L V6 MPI': 258, 'MILAN V6 3.0L V6 EFI': 259, 'FIREBIRD V6 3.8L V6': 260, 'PATRIOT 2WD 4C': 261, 'RONDO V6': 262, 'FORESTER AWD': 263, 'XTERRA 2WD 4C': 264, 'DAKOTA PICKUP 2WD V8': 265, 'TIBURON': 266, 'CAMRY SOLARA V6': 267, 'MONTANA': 268, 'NITRO 2WD V6': 269, 'YARIS': 270, 'G5 4C': 271, 'AURA V6': 272, 'RANGER PICKUP 2WD 4C': 273, 'SPORTAGE 2WD 4C': 274, 'MOUNTAINEER 2WD V6': 275, 'CROWN VICTORIA': 276, 'ALERO V6': 277, '300M': 278, 'GRAND CHEROKEE 4WD 6': 279, 'LE SABRE': 280, 'MATRIX 2WD': 281, 'VOYAGER FWD 4C': 282, 'SENTRA 1.8L I4 EFI': 283, 'ENVOY 2WD 6C 4.2L I-': 284, 'F150 PICKUP 2WD V8 5': 285, 'ION 2.2L I4 MPI': 286, 'FREESTAR FWD V6 3.9L': 287, 'MONTANA FWD 3.4L V6': 288, 'ALERO V6 3.4L V6 MPI': 289, 'COBALT 2.2L I4 MPI /': 290, 'UPLANDER FWD V6 3.5L': 291, 'VUE 2WD 4C 2.2L I4 M': 292, 'GRAND VITARA 2WD 2.5': 293, 'AVEO 1.6L I-4 EFI DO': 294, 'MOUNTAINEER AWD V6 4': 295, 'XL-7 2WD 3.6L V6 EFI': 296, 'DURANGO 2WD V8 4.7L': 297, 'AVEO 1.6L I4 EFI / M': 298, 'ACCORD 4C 2.4L I-4 M': 299, 'CALIBER 2.0L I4 SFI': 300, 'TAHOE 2WD 4.8L V8 SF': 301, 'F150 PICKUP 2WD V8 4': 302, 'SORENTO 2WD 3.5L V6': 303, 'EQUINOX FWD V6 3.4L': 304, 'MALIBU 4C 2.2L I4 MF': 305, 'ENVOY 2WD 6C 4.2L I6': 306, 'TITAN PICKUP 2WD V8': 307, 'GRAND AM 4C 2.2L I4': 308, 'ALTIMA 2.5L I4 MPI /': 309, 'AVENGER 4C 2.4L I4 S': 310, 'IMPALA 3.9L V6 SFI': 311, 'HHR 2.4L I-4 MPI': 312, 'MONTANA FWD 3.5L V6': 313, 'MAXIMA 3.5L V6 MPI': 314, 'CENTURY V6 3.1L V6 S': 315, 'FUSION 4C 2.3L I4 EF': 316, 'RONDO V6 2.7L V6 DI': 317, 'FREESTYLE FWD V6 3.0': 318, 'DURANGO 4WD V8 4.7L': 319, 'IMPALA V6 3.5L V6 MP': 320, 'IMPALA 3.8L V6 SFI': 321, 'LACROSSE': 322, 'TUNDRA PICKUP 2WD V8': 323, 'MARINER 2WD V6': 324, 'GRAND MARQUIS': 325, 'AURA 4C': 326, 'MARINER 4WD V6': 327, 'EXPLORER AWD V6': 328, 'BEETLE': 329, 'VUE 2WD V6': 330, 'YUKON XL 1500 4WD': 331, 'SONATA 4C MFI I-4 2.': 332, 'SANTA FE 2WD V6 2.7L': 333, 'NEON 2.0L I4 SFI': 334, 'XG 350 3.5L V6 EFI /': 335, 'TRACKER 2WD 4C 2.0L': 336, 'GRAND CHEROKEE 2WD 6': 337, 'LANCER 2.0L I4 MPI': 338, 'MUSTANG V6 3.9L V6 E': 339, 'SABLE 3.0L V6 EFI DO': 340, 'LE SABRE 3.8L V6 MFI': 341, 'SPORTAGE 2WD Multipl': 342, 'FREESTYLE AWD V6 3.0': 343, 'ESCAPE 4WD V6 3.0L V': 344, 'XTERRA 2WD V6 3.3L V': 345, 'ELEMENT 2WD 2.4L I4': 346, 'EXPEDITION 2WD V8 5.': 347, 'SPECTRA 1.8L I4 EFI': 348, 'OPTIMA V6': 349, 'VUE AWD V6': 350, 'BRAVADA AWD V6': 351, 'CONCORDE': 352, 'CAMRY SOLARA 4C': 353, 'FRONTIER PICKUP 2WD': 354, 'TOWN CAR': 355, 'MPV 2WD V6': 356, 'SANTA FE 2WD 4C': 357, '2500 RAM PICKUP 4WD': 358, 'PROTEGE': 359, 'CARAVAN FWD V6 3.3L': 360, '626 V6 2.5L V6 EFI D': 361, 'S SERIES 1.9L I-4 SF': 362, 'FOCUS 2.0L I4 SPI': 363, 'BONNEVILLE 3.8L V6 M': 364, 'RENO 2.0L I4 DI / EF': 365, 'INTREPID 3.5L V6 MPI': 366, 'BEETLE 2.0L I4 EFI': 367, 'FOCUS 2.0L I-4 SFI S': 368, 'STRATUS V6 2.7L V6 M': 369, 'SABLE 3.0L V6 2V /EF': 370, 'ESCAPE 2WD 4C 2.0L I': 371, 'LANCER 2.4L I4 MPI': 372, 'L SERIES 2.2L I4 MPI': 373, 'TACOMA PICKUP 2WD 4C': 374, 'TAURUS 3.0L V6 EFI F': 375, 'ESCAPE 2WD 4C 2.3L I': 376, 'OUTLANDER 2WD 4C 2.4': 377, 'ALERO 4C 2.4L I4 SFI': 378, 'TRIBUTE 4WD V6 3.0L': 379, 'PARK AVENUE 3.8L V6': 380, 'GRAND PRIX 3.1L V6 S': 381, 'MATRIX AWD': 382, 'L SERIES 2.0L I-4 MP': 383, 'ENDEAVOR FWD 3.8L V6': 384, 'FOCUS 2.3L I-4 DOHC': 385, 'MAZDA3 2.0L I-4 MPI': 386, 'ECHO 1.5L I4 EFI': 387, 'PROTEGE 5 2.0L I-4 M': 388, 'RENDEZVOUS AWD 3.4L': 389, 'F150 PICKUP 2WD V6 4': 390, 'XG 350': 391, 'SANTA FE 4WD V6': 392, 'TRACKER 2WD 4C': 393, 'SONOMA PICKUP 2WD V6': 394, 'HIGHLANDER 2WD 4C': 395, 'RAINIER RWD V6': 396, 'SORENTO 2WD': 397, 'MAGNUM V8': 398, '300 3.5L V6 MPI / SM': 399, 'BEETLE 2.0L I4 MFI /': 400, 'DURANGO 2WD V6 3.7L': 401, 'HHR 2.2L I4 MPI / SF': 402, 'LACROSSE 3.6L V6 SFI': 403, 'XB 1.5L I-4 EFI DOHC': 404, '300 3.5L / 6.0L V12': 405, 'PACIFICA AWD 4.0L V6': 406, 'MAZDA6 2.3L I4 MPI': 407, 'NITRO 4WD V6 3.7L V6': 408, 'PACIFICA FWD 4.0L V6': 409, 'MUSTANG V6 Unspecifi': 410, 'MONTANA FWD': 411, '1500 SIERRA PICKUP 4': 412, 'PATRIOT FWD 4C': 413, 'AVENGER': 414, 'COMMANDER 2WD V8': 415, 'MALIBU V6 3.5L V6 MF': 416, 'FORENZA 2.0L I4 DI /': 417, 'TERRAZA FWD V6 3.5L': 418, 'MAZDA6 3.0L V6 MFI /': 419, 'ENVOY XL 2WD V8': 420, 'SEDONA': 421, 'ARMADA 4WD V8': 422, 'ENVOY 4WD 6C 4.2L I6': 423, 'SEBRING V6 3.0L V6 M': 424, 'RIO MFI I-4 1.6L DOH': 425, 'HHR 2.2L I-4 MPI DOH': 426, 'GRAND PRIX 3.8L V6 M': 427, 'AMANTI 3.5L V6 MPI': 428, 'ALTIMA 2.4L I4 EFI': 429, 'REGAL 3.8L V6 MFI SC': 430, 'TAHOE 2WD 5.3L V8 SF': 431, 'YUKON XL 1500 2WD 5.': 432, 'LE SABRE Unspecified': 433, 'LANCER 2.4L I4 EFI': 434, 'MONTANA 3.4L V6 SFI': 435, 'TAHOE 4WD 5.3L V8 SF': 436, 'MONTERO SPORT 2WD V6': 437, 'MONTANA 3.4L V6 EFI': 438, 'CAMRY V6 3.0L V6 SFI': 439, 'S SERIES 1.9L I4 SFI': 440, 'VIBE 1.8L I4 MFI / M': 441, 'COMMANDER 2WD V6 3.7': 442, '4 RUNNER 2WD V8 4.7L': 443, 'SUBURBAN 1500 4WD': 444, 'COMMANDER 2WD V6': 445, 'MONTEGO 3.0L V6 EFI': 446, 'G5 4C 2.2L I4 MPI': 447, 'GALANT 4C 2.4L I4 EF': 448, 'ENVOY XL 4WD V8': 449, 'MOUNTAINEER AWD V8': 450, 'MOUNTAINEER AWD V6': 451, 'ASCENDER 2WD 6C': 452, 'COMMANDER 4WD V8': 453, 'ELEMENT 4WD': 454, 'CTS': 455, 'MONTEREY': 456, 'QUEST 3.5L V6 EFI /': 457, 'MARINER 4WD V6 3.0L': 458, 'G6 4C 2.4L I4 MFI /': 459, 'XL-7 4WD 2.7L V6 MPI': 460, 'COMMANDER 4WD V8 4.7': 461, 'ALERO 4C 2.2L I4 MPI': 462, 'DURANGO 2WD V8 5.7L': 463, 'COMMANDER 4WD V6': 464, 'HIGHLANDER 2WD V6 3.': 465, 'TAURUS X FWD V6': 466, '2500HD SILVERADO PIC': 467, 'S40': 468, '2500 RAM PICKUP 2WD': 469, 'YUKON XL 1500 2WD': 470, 'MPV 2WD V6 3.0L V6 M': 471, 'VIBE 1.8L I-4 MPI': 472, 'SUNFIRE 2.2L I4 MPI': 473, 'MOUNTAINEER 2WD V8': 474, 'AVALON': 475, 'COMPASS 4WD 4C': 476, 'DAKOTA PICKUP 4WD V6': 477, 'ASPEN 2WD V8': 478, 'MURANO 2WD V6': 479, 'QUEST': 480, 'QX4 4WD V6': 481, 'MIATA MX-5': 482, 'JETTA 4C': 483, 'RIO 5': 484, 'ION 2.2L I4 MPI / SF': 485, 'EXPLORER 4WD V8': 486, 'CONTINENTAL': 487, 'SRX AWD V6': 488, 'NITRO 4WD V6': 489, 'GRAND VITARA 2WD': 490, 'XA': 491, 'TAURUS 3.0L V6 SFI': 492, 'ENVOY XL 2WD 6C 4.2L': 493, 'FREESTAR FWD V6 4.2L': 494, 'NEON 2.0L I4 SFI / S': 495, 'OPTIMA V6 MFI V6 2.7': 496, 'ACCENT MFI I-4 1.6L': 497, 'G6 4C 2.4L I-4 MPI': 498, 'EXPEDITION 2WD V8 4.': 499, 'FOCUS 2.0L I-4 SFI D': 500, 'SEBRING 4C 2.4L I-4': 501, 'ALTIMA 2.5L I4 EFI': 502, 'EXPEDITION 4WD V8 4.': 503, 'RELAY 2WD V6 3.5L V6': 504, 'SUBURBAN 1500 2WD 5.': 505, 'VITARA 2WD 4C MFI V6': 506, 'CANYON PICKUP 2WD I5': 507, 'ENVOY XL 2WD V8 5.3L': 508, 'DURANGO 4WD V8 SEFI': 509, 'SENTRA 1.8L I4 EFI /': 510, 'VERONA 2.5L I6 MPI': 511, 'ALTIMA MFI I-4 2.5L': 512, 'AXIOM 2WD V6 3.5L V6': 513, 'MARINER 4WD 4C': 514, 'SEBRING V6 MFI V6 2.': 515, 'COBALT 2.2L I-4 MPI': 516, 'S10 PICKUP 2WD 4C 2.': 517, 'YUKON 4WD V8 4.8L V8': 518, 'S10 PICKUP 4WD V6 4.': 519, 'SPECTRA 5 2.0L I4 EF': 520, 'SANTA FE 2WD 4C 2.4L': 521, 'COLORADO PICKUP 4WD': 522, 'FOCUS 2.0L I4 EFI': 523, 'AVEO 1.6L I-4 MPI DO': 524, 'SUBURBAN 1500 4WD 5.': 525, 'ECLIPSE 3.8L V6 MPI': 526, 'CAMRY 4C 2.4L I-4 SF': 527, 'SABLE 3.0L V6 4V /EF': 528, 'MILAN 4C 2.3L I4 EFI': 529, 'SPORTAGE 2WD 4C 2.7L': 530, 'I-280 PICKUP 2WD 4C': 531, 'RONDO 4C': 532, 'MONTE CARLO 3.9L V6': 533, 'CAMRY 4C 2.4L I4 SFI': 534, 'TRIBUTE 2WD 4C 2.3L': 535, 'IMPALA 3.5L V6 SFI F': 536, 'MONTERO SPORT 4WD V6': 537, 'YUKON 2WD V8 4.8L V8': 538, 'MAGNUM V8 5.7L V8 SF': 539, 'AZERA 3.8L V6 MPI': 540, 'CANYON PICKUP 4WD I5': 541, 'PT CRUISER 2.4L I4 D': 542, 'UPLANDER AWD V6': 543, 'XL-7 2WD': 544, 'GS450H': 545, 'MONTE CARLO 3.8L V6': 546, 'ELEMENT 4WD 2.4L I4': 547, 'G6 V6 3.5L V6 MFI /': 548, 'TORRENT FWD V6 3.4L': 549, 'L SERIES 2.2L I4 SFI': 550, 'RENDEZVOUS FWD 3.5L': 551, 'ALERO 4C 2.2L I-4 MP': 552, 'GALANT 4C Multiple E': 553, 'COMPASS 2WD 4C 2.4L': 554, 'VIBE AWD MFI I-4 1.8': 555, 'G35': 556, 'RAINIER AWD V6': 557, 'GS300': 558, 'BONNEVILLE': 559, 'ODYSSEY': 560, 'OUTLANDER AWD 4C': 561, 'NAVIGATOR 4WD V8': 562, 'TORRENT AWD V6': 563, 'S10 PICKUP 2WD V6': 564, 'OPTIMA': 565, 'YUKON 2WD V8': 566, 'SABLE 3.0L V6 EFI SO': 567, 'MONTEREY 4.2L V6 SPI': 568, 'AVEO 1.6L I4 DOHC': 569, 'GALANT V6 3.0L V6 EF': 570, 'SENTRA 1.8L I-4 EFI': 571, 'NAVIGATOR 2WD V8 5.4': 572, 'MARINER 2WD 4C 2.3L': 573, '300M 3.5L V6 MPI': 574, 'PROTEGE 2.0L I4 EFI': 575, 'VOYAGER FWD 4C 2.4L': 576, 'XTERRA 4WD V6 3.3L V': 577, 'CAVALIER 4C 2.2L I-4': 578, 'G6 V6 3.9L V6 SFI': 579, 'OPTIMA V6 2.7L V6 MP': 580, 'GALANT V6 3.8L V6 MP': 581, 'FOCUS 2.0L I4 MFI /': 582, 'RAINIER RWD V6 4.2L': 583, 'MAZDA3 2.0L I4 MFI /': 584, 'SPORTAGE 2WD V6 2.7L': 585, 'PILOT 3.5L V6 MPI': 586, 'SEDONA 3.8L V6 MPI': 587, 'CAVALIER 4C 2.4L I-4': 588, 'RAINIER AWD V6 4.2L': 589, 'NITRO 2WD V6 3.7L V6': 590, 'OUTLANDER 2WD 4C': 591, 'CAMARO V6': 592, 'VOYAGER FWD V6 3.3L': 593, 'XB 1.5L I4 EFI': 594, 'EXPLORER 2WD V8 4.6L': 595, 'LE SABRE 3.8L V6 MPI': 596, 'TRIBUTE 2WD V6 3.0L': 597, 'VERONA 2.5L I6 DI /': 598, 'ECLIPSE 2.4L I4 EFI': 599, 'B3000 PICKUP 2WD V6': 600, 'GALANT 4C 2.4L I-4 E': 601, 'REGAL 3.8L V6 MFI': 602, 'MAZDA3 2.3L I4 MFI /': 603, 'IMPALA 3.8L V6 MFI': 604, 'SPECTRA 2.0L I-4 EFI': 605, 'STRATUS V6 3.0L V6 E': 606, 'XTERRA 4WD V6': 607, 'CARAVAN GRAND AWD V6': 608, 'SX4': 609, 'YUKON AWD V8': 610, 'PATHFINDER 4WD V6': 611, 'CR-V 4WD': 612, 'TUCSON 2WD V6': 613, 'COMPASS FWD 4C': 614, 'PATHFINDER 2WD V6': 615, 'TUCSON 4WD 4C': 616, 'ASCENDER 4WD 6C': 617, 'SPECTRA 5': 618, 'TUCSON 4WD V6': 619, '350Z MFI V6 3.5L DOH': 620, 'GRAND VITARA 4WD 2.7': 621, 'CAMRY 4C 2.4L I-4 EF': 622, 'XL-7 4WD 2.7L V6 MFI': 623, 'TAURUS 3.0L V6 EFI D': 624, 'L SERIES 3.0L V6 EFI': 625, 'AERIO 2.0L I4 EFI': 626, 'SEQUOIA 2WD 4.7L V8': 627, 'MAZDA3 2.0L I4 MPI': 628, 'ALTIMA MFI V6 3.5L D': 629, 'TUCSON 2WD 4C 2.0L I': 630, 'SPORTAGE 4WD 2.0L I4': 631, 'UPLANDER AWD V6 3.5L': 632, 'MAZDA6 3.0L V6 MPI': 633, 'COMMANDER 4WD V6 3.7': 634, 'ES300 3.0L V6 EFI': 635, 'ENVOY 4WD V8 5.3L V8': 636, 'COUPE 1.9L I-4 SFI D': 637, 'PATHFINDER 4WD V6 3.': 638, 'XTERRA 2WD 4C 2.4L I': 639, 'L SERIES 2.0L I4 MPI': 640, 'SONOMA PICKUP 2WD 4C': 641, 'RENO 2.0L I-4 EFI DO': 642, 'TUNDRA PICKUP 4WD V8': 643, 'CONTINENTAL 4.6L V8': 644, 'AURA 3.5L V6 SFI': 645, 'MPV 2WD V6 MFI V6 3.': 646, 'MONTANA AWD 3.5L V6': 647, 'MURANO AWD V6 3.5L V': 648, 'SABLE 3.0L V6 EFI 4B': 649, 'CR-V 4WD 2.0L I-4 MP': 650, 'PATHFINDER 4WD V6 MF': 651, 'ECHO Multiple Engine': 652, '300C': 653, 'SRX AWD V8 4.6L V8 S': 654, 'ION 2.2L I-4 MPI DOH': 655, 'MAXIMA 3.5L V6 MPI /': 656, 'SANTA FE 2WD V6 3.5L': 657, 'IMPALA 3.8L V6 MFI S': 658, 'YUKON 4WD V8 5.3L V8': 659, 'VUE 2WD 4C 2.2L I-4': 660, 'FOCUS 2.3L I4 DOHC': 661, 'TRACKER 4WD 4C': 662, 'SOLSTICE': 663, 'ZEPHYR': 664, 'TL': 665, 'YUKON 4WD V8': 666, 'TRIBUTE 4WD 4C': 667, 'ESCORT 2.0L I-4 EFI': 668, 'CHEROKEE 2WD 6C 4.0L': 669, 'COMPASS 4WD 4C 2.4L': 670, 'FOCUS 2.0L I4 SFI /': 671, 'MAZDA3 2.3L I4 MPI': 672, 'ESCORT 2.0L I4 EFI': 673, 'S10 PICKUP 2WD V6 MF': 674, 'DURANGO 4WD V8 5.9L': 675, 'SIERRA 1500': 676, 'HHR 2.4L I4 MPI': 677, 'CAMRY 4C 2.4L I4 EFI': 678, 'TRACKER 4WD V6': 679, 'PILOT': 680, 'ES330': 681, 'SPORTAGE 4WD V6': 682, 'F150 PICKUP 4WD V6': 683, 'RAIDER 2WD V6': 684, 'VIBE AWD': 685, 'AZERA': 686, 'COUPE': 687, 'AVIATOR 2WD V8': 688, '626 V6': 689, 'GRAND MARQUIS 4.6L V': 690, 'XB 1.5L I-4 MPI': 691, 'MUSTANG V8': 692, 'TC 2.4L I-4 EFI DOHC': 693, 'SCION XB': 694, 'CANYON PICKUP 2WD 4C': 695, 'SEQUOIA 2WD': 696, 'TC': 697, 'YUKON 2WD V8 5.3L V8': 698, 'ESCAPE 4WD 4C 2.3L I': 699, 'TIBURON MFI I-4 2.0L': 700, 'PROTEGE MFI I-4 1.6L': 701, 'SPORTAGE 2WD V6': 702, 'RANGER PICKUP 4WD V6': 703, 'ESCAPE 4WD 4C': 704, 'TRAILBLAZER 2WD V8': 705, 'AERIO': 706, 'ION 2.0L I-4 MPI DOH': 707, 'ENVOY 4WD 6C 4.2L I-': 708, 'GRAND PRIX 5.3L V8 S': 709, 'HHR 2.4L I4 MPI / SF': 710, 'ALERO 4C 2.4L I-4 SF': 711, 'ASCENDER 4WD 6C 4.2L': 712, 'OUTLANDER AWD 4C 2.4': 713, 'GS300 3.0L I6 EFI': 714, 'ION 2.2L I-4 EFI DOH': 715, 'ENVOY XL 4WD V8 5.3L': 716, 'MARINER 4WD 4C 2.3L': 717, 'MONTANA AWD': 718, 'TSX': 719, 'ES300': 720, 'LEGACY': 721, 'LUCERNE V6': 722, 'CAMARO V6 3.8L V6 MF': 723, 'COROLLA 1.8L I4 EFI': 724, 'QUEST 3.5L V6 MPI': 725, 'IMPALA V6 3.9L V6 SF': 726, 'ECLIPSE EI V6 3.0L S': 727, 'TAURUS X FWD V6 3.5L': 728, 'FUSION V6 3.0L V6 EF': 729, 'MAXIMA 3.0L V6 EFI D': 730, 'CTS 3.2L V6 SFI': 731, 'MONTERO 4WD V6 3.5L': 732, 'I35 3.5L V6 MPI DOHC': 733, 'STRATUS 4C 2.4L I-4': 734, 'G20 2.0L I4 EFI': 735, 'XG 350 3.5L V6 EFI D': 736, 'MOUNTAINEER AWD V8 4': 737, 'VUE AWD 4C': 738, '300C 5.7L V8 SFI / S': 739, 'XL-7 2WD 2.7L V6 MFI': 740, 'GRAND VITARA 2WD 2.7': 741, 'SUBURBAN 2500 4WD 6.': 742, 'INTREPID': 743, 'BEETLE 2.0L I4 MPI': 744, 'EXPLORER AWD V6 4.0L': 745, 'MUSTANG V8 4.6L V8 E': 746, 'RX400H AWD': 747, 'SUBURBAN 2500 4WD': 748, 'F150 PICKUP 4WD V8 5': 749, 'VUE 2WD V6 3.5L V6 M': 750, 'GRAND AM 4C 2.4L I-4': 751, 'PATHFINDER 2WD V6 MF': 752, 'MATRIX 2WD 1.8L I-4': 753, 'XTERRA 2WD V6 4.0L V': 754, 'MURANO 2WD V6 3.5L V': 755, 'PATHFINDER 2WD V6 4.': 756, 'IMPALA 5.3L V8 SFI': 757, 'CTS 3.6L V6 SFI': 758, '626 4C 2.0L I-4 EFI': 759, 'STRATUS V6 2.4L I-4': 760, 'L SERIES 2.2L I-4 EF': 761, 'LANCER 2.0L I-4 MPI': 762, 'COROLLA 1.8L I-4 EFI': 763, 'MATRIX 2WD Multiple': 764, 'PROTEGE 2.0L I-4 EFI': 765, 'SEBRING 4C 2.4L I4 M': 766, 'SPORTAGE 2WD 4C MFI': 767, 'VIBE AWD 1.8L I4 MPI': 768, 'MDX 4WD 3.5L V6 SOHC': 769, 'TUNDRA PICKUP 2WD V6': 770, 'VUE 2WD V6 3.0L V6 S': 771, '4 RUNNER 2WD V6 3.4L': 772, 'MOUNTAINEER 2WD V6 4': 773, 'ES300 3.0L V6 EFI DO': 774, 'GRAND AM V6 3.4L V 6': 775, 'ACCENT 1.6L I-4 MPI': 776, 'COUPE 1.9L I-4 SFI S': 777, 'AURA V6 3.5L V6 SFI': 778, 'ACCORD 4C 2.3L I-4 E': 779, 'COOPER S': 780, '3.2 TL': 781, 'MONTERO 4WD V6': 782, '1500HD SILVERADO PIC': 783, 'MARINER 2WD 4C': 784, 'MAZDA6 3.0L V6 MPI D': 785, 'COROLLA Multiple Eng': 786, 'TUCSON 2WD V6 2.7L V': 787, 'XA 1.5L I4 EFI': 788, 'TACOMA PICKUP 2WD V6': 789, 'CELICA': 790, 'MDX 4WD': 791, '4 RUNNER 2WD V6': 792, '350Z': 793, 'ECHO': 794, 'S60': 795, 'CARAVAN': 796, 'SILHOUETTE 3.4L V6 S': 797, 'ENDEAVOR AWD 3.8L V6': 798, 'ENVOY XL 4WD 6C 4.2L': 799, 'INTREPID 2.7L V6 SFI': 800, 'CAMRY V6 3.0L V6 EFI': 801, 'CIVIC MFI I-4 1.7L S': 802, 'RAV-4 2WD Multiple E': 803, 'S10 PICKUP 4WD V6 MF': 804, 'MALIBU 4C 2.4L I4 MP': 805, 'GRAND AM 4C 2.2L I-4': 806, 'FX35 AWD': 807, 'FOCUS Multiple Engin': 808, 'CAMRY V6 3.5L V6 SFI': 809, 'TUCSON 4WD V6 2.7L V': 810, 'H3 3.5L I5 MPI / SFI': 811, 'VENTURE FWD V6 3.5L': 812, 'VENTURE AWD V6 3.4L': 813, 'SORENTO 2WD 3.8L V6': 814, 'VUE AWD 4C 2.2L I-4': 815, 'DURANGO 2WD V8 5.9L': 816, 'IMPREZA': 817, 'DAKOTA PICKUP 2WD 4C': 818, 'MOUNTAINEER 2WD V8 4': 819, 'TUCSON 2WD V6 MFI V6': 820, 'SILHOUETTE 3.4L V 6': 821, 'INTREPID 3.5L V6 EFI': 822, 'COMMANDER 2WD V8 4.7': 823, 'ACCORD 4C MFI I-4 2.': 824, 'MAZDA5 2.3L I4 MFI /': 825, 'EXPLORER 4WD V8 4.6L': 826, 'SABLE 3.0L V6 EFI 2B': 827, 'YUKON XL 1500 4WD 5.': 828, 'B2300 PICKUP 2WD 4C': 829, 'RAV-4 2WD': 830, 'NAVIGATOR 2WD V8': 831, '1500HD SIERRA PICKUP': 832, '626 4C': 833, 'SEQUOIA 4WD 4.7L V8': 834, '3.2 CL 3.2L V 6 NA S': 835, 'QX4 2WD V6 3.5L V6 M': 836, 'TIBURON 2.7L V6 MPI': 837, 'ESCORT 4-FI-2.0L': 838, 'CAMRY SOLARA 4C 2.4L': 839, 'HIGHLANDER 4WD V6': 840, 'CAMRY 4C Multiple En': 841, 'TRACKER 2WD V6 2.5L': 842, '2500 SILVERADO PICKU': 843, 'FIT': 844, 'LS V6': 845, 'CIVIC 1.7L I-4 MPI S': 846, 'MURANO AWD V6': 847, 'FJ CRUISER 4WD V6': 848, 'XG 300': 849, 'F150 PICKUP 4WD V8 4': 850, 'ECLIPSE 3.0L V6 EFI': 851, 'XL-7 2WD 2.7L V6 DI': 852, 'MONTERO 4WD V6 3.8L': 853, 'TRACKER 4WD 4C 2.0L': 854, 'TIBURON MFI V6 2.7L': 855, 'AERIO 2.3L I-4 SFI D': 856, 'ACCENT 1.5L I-4 EFI': 857, '2500HD SIERRA PICKUP': 858, 'SIENNA 3.0L V6 MPI': 859, 'WRANGLER 6C': 860, 'RSX': 861, 'RAV-4 4WD': 862, 'PROTEGE 5': 863, 'CARAVAN SE': 864, 'CHEROKEE 2WD 6C': 865, 'CHEROKEE 4WD 6C': 866, 'B3000 PICKUP 4WD V6': 867, 'PRIZM': 868, '300C 5.7L V8 SFI': 869, 'SRX AWD V6 3.6L V6 S': 870, 'MPV 2WD V6 MFI V6 2.': 871, 'RODEO 2WD 4C MFI I-4': 872, 'AVALANCHE 2500 2WD V': 873, 'ECLIPSE 2.4L I-4 EFI': 874, 'PATHFINDER 2WD V6 3.': 875, 'AVENGER V6 Unspecifi': 876, 'CAMRY SOLARA 4C Mult': 877, 'CROWN VICTORIA 4.6L': 878, 'AVIATOR 2WD V8 4.6L': 879, 'AVALON 3.0L V6 EFI D': 880, 'GRAND AM V6 Unspecif': 881, 'MATRIX 2WD Unspecifi': 882, 'CR-V 4WD 2.4L I4 MPI': 883, 'ECHO 1.5L I-4 EFI DO': 884, 'MONTANA 3.4L V 6 NA': 885, 'CIVIC 1.7L I4 MFI /': 886, 'TAURUS 3.5L V6 24V /': 887, 'LS V8': 888, 'SONATA 4C 2.4L I-4 M': 889, 'OUTBACK': 890, 'LS V6 3.0L V6 EFI': 891, '3.2 TL 3.2L V6 EFI': 892, 'ESCAPE': 893, 'BEETLE 2.0L I4 EFI /': 894, 'PRIZM 1.8L I-4 SFI D': 895, 'CAMRY V6 3.0L / 3.3L': 896, 'DAKOTA PICKUP 4WD V8': 897, 'PATRIOT 2WD 4C 2.4L': 898, 'MAGENTIS 4C': 899, 'I30': 900, 'FIREBIRD V6': 901, 'LHS': 902, 'ENTOURAGE': 903, 'RONDO V6 2.7L V6 MPI': 904, 'VERONA': 905, 'AXIOM 4WD V6 3.5L V6': 906, 'FOCUS 2.0L I-4 SPI': 907, 'VERONA 2.5L I-6 MPI': 908, 'WRANGLER 6C 4.0L I-6': 909, '3.2 TL 3.2L V6 FI DO': 910, 'F250 PICKUP 4WD V8': 911, 'RIO 5 1.6L I4 MPI': 912, 'VUE AWD V6 3.5L V6 M': 913, 'REGAL 3.8L V6 SFI': 914, 'YUKON XL 1500 AWD 6.': 915, 'PATHFINDER 4WD V6 4.': 916, 'MAZDA6 2.3L I-4 MPI': 917, 'CR-V 2WD': 918, 'GALANT 4C 2.4L I4 MP': 919, 'CIVIC 1.7L I4 MPI': 920, 'ZEPHYR 3.0L V6 SFI': 921, 'CAVALIER 4C 2.2L I 4': 922, 'ASCENDER 2WD V8 5.3L': 923, 'RAINIER RWD V8': 924, 'FRONTIER PICKUP 4WD': 925, 'RELAY AWD V6': 926, 'ECLIPSE V6': 927, 'G35 3.5L V6 MPI': 928, 'CAMRY 4C EI I-4 2.2L': 929, 'G8 V8': 930, 'TOWN & COUNTRY AWD V': 931, 'CONCORDE 2.7L V6 SFI': 932, 'LIBERTY 2WD 4C 2.4L': 933, 'AERIO 2.3L I4 SFI': 934, 'COMMANDER': 935, 'CALIBER 1.8L I4 SFI': 936, 'F250 PICKUP 2WD V8': 937, 'EDGE FWD V6': 938, 'TITAN PICKUP 4WD V8': 939, 'M35': 940, 'STS V6': 941, 'CROSSFIRE 3.2L V6 MP': 942, 'RAINIER AWD V8': 943, 'ENVOY 2WD V8': 944, 'TOUAREG V8': 945, 'MAZDA3 2.3L I-4 MPI': 946, 'ALTIMA Multiple Engi': 947, 'FOCUS 2.3L I4 SFI': 948, 'RELAY 2WD V6 3.9L V6': 949, 'TC 2.4L I4 16V / EFI': 950, 'G35 3.5L V6 DOHC': 951, 'COOPER S 1.6L I4 EFI': 952, 'FOCUS 2.3L I4 MFI': 953, 'COMPASS 2WD 4C': 954, 'RABBIT': 955, 'BRAVADA 2WD V6 4.2L': 956, 'SONATA V6 MFI V6 2.7': 957, 'GRAND VITARA 4WD': 958, 'SUNFIRE 2.2L I 4 NA': 959, 'LS V6 3.0L V6 EFI DO': 960, 'RENDEZVOUS AWD 3.5L': 961, 'SEQUOIA 4WD': 962, 'SUNFIRE 2.2L I-4 MPI': 963, 'AERIO 2.3L I4 DI / S': 964, 'S10 PICKUP 2WD V6 4.': 965, 'AERIO AWD': 966, 'LIBERTY 4WD 4C': 967, 'RONDO 4C 2.4L I4 DI': 968, 'EDGE AWD V6': 969, 'GRAND VITARA 4WD MFI': 970, 'HIGHLANDER 2WD 4C 2.': 971, 'ESCORT': 972, 'I-370 PICKUP 2WD 5C': 973, 'ELEMENT 2WD 2.4L I-4': 974, 'XG 300 Unspecified': 975, 'ESCORT 2.0L I-4 SPI': 976, 'MAGNUM V6 MFI V6 3.5': 977, '300M 3.5L V6 MPI HO': 978, 'JOURNEY FWD V6': 979, 'ACCORD 4C 2.3L I-4 S': 980, 'SEBRING V6 2.4L I4 S': 981, 'XD': 982, 'NAVIGATOR 4WD V8 5.4': 983, 'Pacifica': 984, 'TRAILBLAZER 4WD V8': 985, 'HIGHLANDER 4WD 4C': 986, 'AVENGER V6 2.7L V6 M': 987, 'LUCERNE V6 3.8L V6 S': 988, 'SABLE 3.5L V6 24V /': 989, 'CONCORDE 3.2L V6 EFI': 990, 'RX300 2WD 3.0L V6 EF': 991, 'ACCORD 4C 2.3L I4 EF': 992, 'RAINIER RWD V8 5.3L': 993, 'CR-V 2WD 2.0L I 4 NA': 994, 'ESCALADE 2WD': 995, 'F250 PICKUP 2WD V8 5': 996, 'RX300 2WD': 997, 'STRATUS V6 2.7L V6 S': 998, 'OUTLANDER 2WD V6': 999, 'VUE AWD V6 3.0L V6 S': 1000, 'IMPALA 3.5L V6 MPI /': 1001, 'COOPER 1.6L I-4 EFI': 1002, 'AVALON 3.5L V6 EFI': 1003, 'EDGE AWD V6 3.5L V6': 1004, 'RAIDER 2WD V6 3.7L V': 1005, 'CX-7 FWD 4C 2.3L I4': 1006, 'IS300': 1007, 'CAMRY SOLARA V6 3.3L': 1008, '4 RUNNER 4WD V6': 1009, 'RONDO 4C 2.4L I4 MPI': 1010, 'MR2 SPYDER': 1011, 'ARMADA 2WD V8': 1012, 'MALIBU HYBRID': 1013, 'SENTRA 2.0L I4 EFI': 1014, 'DURANGO 4WD V8 MFI V': 1015, 'CHEROKEE 4WD 6C 4.0L': 1016, '626 4C 2.0L I4 EFI': 1017, 'YARIS 1.5L I4 EFI /': 1018, '350Z 3.5L V6 MPI': 1019, 'SENTRA 1.8L I 4 NA D': 1020, 'SEDONA 3.5L V6 EFI': 1021, 'OPTIMA 4C 2.4L I 4 N': 1022, 'AVALON 3.0L V6 EFI': 1023, 'COOPER 1.6L I4 EFI': 1024, 'SPECTRA 6-230/250-1V': 1025, 'UPLANDER': 1026, 'SIENNA 3.0L V6 MPI D': 1027, '4 RUNNER 4WD V6 3.4L': 1028, 'SEBRING V6 2.7L V6 S': 1029, 'GX470 4WD': 1030, 'SIENNA': 1031, 'RODEO 2WD V6': 1032, 'CAMRY V6 3.0L /3.3L': 1033, 'I35': 1034, 'AVIATOR AWD V8': 1035, '3.2 CL': 1036, 'G35 3.5L V6 SMPI': 1037, 'I-290 PICKUP 2WD 4C': 1038, 'AXIOM 2WD V6': 1039, 'COMPASS 2WD 4C 2.0L': 1040, 'MIRAGE 1.8L I-4 MPI': 1041, 'MALIBU 4C 2.2L I-4 M': 1042, 'ODYSSEY 3.5L V6 MPI': 1043, 'SX4 2.0L I4 EFI': 1044, 'PASSAT 4C': 1045, 'S10 PICKUP 4WD V6': 1046, 'TAURUS X AWD V6': 1047, 'SANTA FE 4WD V6 Unsp': 1048, 'RX330 FWD': 1049, 'M45 4.5L V8 MPI': 1050, 'M35 3.5L V6 MPI': 1051, 'HIGHLANDER 4WD V6 3.': 1052, 'BRAVADA 2WD V6': 1053, 'LS V8 3.9L V8 EFI': 1054, 'MDX 4WD 3.5L V6 EFI': 1055, 'CX-7 AWD 4C': 1056, 'VITARA 2WD 4C 2.0L I': 1057, 'CX-7 FWD 4C': 1058, 'ALTIMA 3.5L V6 MPI /': 1059, 'EXCURSION 4WD V8 5.4': 1060, 'M45 4.5L V8 MPI / SF': 1061, 'PATRIOT 2WD 4C 2.0L': 1062}\n",
      "{'i': 0, 'ST': 1, 'SXT': 2, 'ZX3': 3, 'ES': 4, 'EX': 5, 'SE': 6, 'SEL': 7, 'SLE': 8, 'XL': 9, 'Bas': 10, 'LS': 11, nan: 12, 'SS': 13, 'SLT': 14, '150': 15, 'Spo': 16, 'LX': 17, 'GLS': 18, 'CE': 19, 'GT': 20, 'Lar': 21, '2': 22, 'Adv': 23, 'SR5': 24, 'GXP': 25, 'Tou': 26, 'XLT': 27, 'LT': 28, 'SES': 29, 'XLS': 30, 'GL': 31, 'LE': 32, '1': 33, 'L20': 34, 'Lim': 35, 's': 36, 'Edd': 37, '3': 38, 'Edg': 39, 'ZTW': 40, 'ZX4': 41, 'STX': 42, 'CX': 43, 'Nor': 44, 'GS': 45, 'XE': 46, 'CXL': 47, 'Ren': 48, 'LTZ': 49, 'ZTS': 50, 'S': 51, 'GTC': 52, 'GTP': 53, 'Cla': 54, 'Spy': 55, 'LXi': 56, 'SE-': 57, 'Exe': 58, 'Pre': 59, 'SL2': 60, 'GXE': 61, 'SL1': 62, 'Cus': 63, 'GLE': 64, 'DE': 65, 'Z71': 66, 'Si': 67, 'X': 68, 'SX': 69, 'XR': 70, 'SVT': 71, 'GTS': 72, 'LW3': 73, 'SV6': 74, 'Val': 75, 'Car': 76, 'eL': 77, 'DX': 78, 'Spe': 79, 'W/T': 80, 'LW2': 81, 'Pro': 82, 'SL': 83, 'L30': 84, 'RT': 85, 'CXS': 86, 'VP': 87, 'Cin': 88, 'Max': 89, 'Ral': 90, 'Sta': 91, 'Lux': 92, 'R/T': 93, 'Her': 94, 'ZX5': 95, 'Xsp': 96, 'Kin': 97, '3 R': 98, 'Hig': 99, 'GX': 100, 'EX-': 101, 'RS': 102, 'Plu': 103, 'Ult': 104, 'DS': 105, 'Ove': 106, 'Den': 107, 'XRS': 108, 'SC2': 109, 'Sig': 110, 'SC1': 111, 'XS': 112, 'C': 113, 'ZX2': 114, 'ZXW': 115, 'ZR2': 116, 'Dur': 117, 'OZ': 118, 'L': 119, '250': 120, 'eC': 121, 'FX4': 122, 'Out': 123, 'L10': 124, 'Maz': 125, 'Ent': 126, 'T5': 127, 'Z24': 128, 'Har': 129, 'LL': 130, 'Hyb': 131, 'JLX': 132, 'JLS': 133, 'L 3': 134}\n",
      "{'4D SEDAN I': 0, 'QUAD CAB 4.7L SLT': 1, '4D SEDAN SXT FFV': 2, '4D SEDAN': 3, '2D COUPE ZX3': 4, '4D SEDAN ES': 5, '4D SEDAN EX': 6, '4D SEDAN SE': 7, '4D SEDAN SEL': 8, 'REG CAB 4.3L': 9, 'REG CAB 4.2L XL': 10, 'MINIVAN 3.3L': 11, 'MINIVAN 3.8L': 12, '2D COUPE': 13, '4D SUV 4.2L': 14, '4D CUV 2.2L': 15, '4D UTILITY 4.2L SLE': 16, '2D COUPE SS': 17, 'PASSENGER 3.4L': 18, '4D SUV 2.2L LS': 19, '4D SEDAN LS PREMIUM': 20, '4D SUV 5.7L SLT': 21, 'MINIVAN 3.8L SXT': 22, '4D UTILITY 5.3L FFV LS': 23, '2D SUV 4.0L SPORT': 24, '4D SUV-PICKUP 5.3L': 25, 'PASSENGER 3.8L LX': 26, 'PASSENGER 3.9L LX': 27, '4D WAGON SXT': 28, '4D SEDAN 1.8': 29, '4D SPORT TOURER': 30, '4D SEDAN LS 3.5L FFV': 31, 'QUAD CAB 5.7L': 32, '4D SPORT UTILITY': 33, '4D SEDAN CE': 34, '4D SEDAN GT': 35, 'QUAD CAB 4.7L': 36, '4D SEDAN LEVEL 2': 37, '4D SUV 4.7L': 38, '4D SUV 4.7L ADVENTURER': 39, '4D SEDAN GLS': 40, '4D SPORT UTILITY SPORT EDITION': 41, '4D SEDAN GXP': 42, '4D WAGON SPORT': 43, '4D SUV': 44, 'QUAD CAB 3.7L ST': 45, '4D SUV 5.3L': 46, '4D SEDAN LS': 47, '4D SUV 4.6L XLT': 48, '4D SUV 4.7L ST': 49, '4D SPORT UTILITY EX': 50, '4D SUV 2.2L LT': 51, '4D SEDAN SES': 52, '4D CUV 3.0L SEL': 53, 'CREW CAB 5.4L KING RANCH': 54, '4D SUV 4.2L LS': 55, '4D SUV HARDTOP 2.5L LT': 56, 'QUAD CAB 5.7L SLT': 57, '4D SUV 3.7L': 58, '4D SUV 4.6L XLS': 59, 'QUAD CAB 4.7L FFV BIG HORN': 60, '4D SEDAN GL1': 61, 'MINIVAN 3.3L LX': 62, '4D SEDAN LE': 63, 'WAGON 2.7L': 64, '4D SUV LS': 65, '4D SUV SPORT': 66, '4D SEDAN LEVEL 1': 67, '4D CUV 3.0L SE': 68, '4D SEDAN L200': 69, '4D SUV LIMITED': 70, '4D WAGON': 71, '5D SEDAN GS': 72, '4D SUV 4.6L EDDIE BAUER': 73, '4D SUV 5.4L EDDIE BAUER': 74, 'REG CAB 3.7L': 75, '4D MINIVAN EXT 3.4L GLS': 76, '4D CUV 3.0L XLT': 77, '4D SEDAN LEVEL 3': 78, '2D EXT CAB 3.0L EDGE': 79, '4D WAGON ZTW': 80, '2D COUPE LS': 81, '4D SUV 4.7L SLT': 82, 'PASSENGER EXT 3.5L': 83, 'EXT CAB 4.8L': 84, '4D SUV 4.0L FFV XLT': 85, '4D SPORT UTILITY LS': 86, '4D SEDAN SEL FFV': 87, '4D SEDAN SE FFV': 88, 'WAGON 3.5L': 89, '4D SPORT TOURING': 90, '4D SEDAN ZX4 SE': 91, '4D SEDAN GL': 92, '4D SEDAN LT 3.5L': 93, '4D CUV': 94, '4D SEDAN S': 95, 'EXT CAB 3.7L': 96, 'PASSENGER EXT 3.5L LS': 97, 'REG CAB 3.0L EDGE': 98, 'MINIVAN 3.3L FFV SPORT': 99, '4D SPORT UTILITY I': 100, '4D SUV CX': 101, '4D SEDAN LT 3.5L FFV': 102, 'REG CAB 4.2L STX': 103, '4D SEDAN SE1': 104, '4D WAGON SE': 105, '4D SEDAN LX AUTO': 106, '4D CUV 2.3L XLS': 107, '2D COUPE SE': 108, '4D SEDAN ZX4': 109, 'REG CAB 2.8L': 110, '4D CUV 2.7L': 111, '4D WAGON LAREDO': 112, '4D SEDAN SE COMFORT': 113, '4D SEDAN LX': 114, 'MINIVAN 3.3L SPORT': 115, '4D SEDAN 2.7L SE': 116, '4D SPORT': 117, '4D SEDAN SXT': 118, '4D SEDAN GS': 119, '4D SUV HARDTOP 2.5L': 120, '4D SEDAN LT': 121, '4D SPORT UTILITY SE': 122, '4D SEDAN XE': 123, 'REG CAB 4.6L STX': 124, '4D SPORT UTILITY S': 125, 'EXT CAB 4.6L STX': 126, '4D WAGON CX': 127, '4D SUV RENEGADE': 128, 'MINIVAN 3.3L SE': 129, '4D SEDAN TOURING TURBO': 130, '2D CONVERTIBLE LX': 131, '4D SEDAN LTZ': 132, 'PASSENGER 3.5L LS': 133, '4D CUV 2.7L GLS': 134, '4D SEDAN ZTS': 135, '4D HATCHBACK S': 136, '4D SUV 4.0L FFV XLS': 137, 'MINIVAN 3.8L SPORT': 138, '4D SUV 3.7L SLT': 139, 'EXT CAB 4.6L FX2 SPORT': 140, '4D SEDAN PKG1': 141, '2D CONVERTIBLE GTC': 142, '4D SEDAN LT 3.9L': 143, 'MAZDA3 4D I SPORT': 144, '4D PASSENGER 3.8L SE': 145, '4D SEDAN GTP': 146, '4D SEDAN LS SPORT': 147, 'PASSENGER EXT 3.4L LS': 148, '4D SUV 5.4L XLT': 149, '4D SEDAN 2.7L': 150, '4D SEDAN CLASSIC': 151, '4D SUV 3.0L': 152, '2D CONVERTIBLE TOURING': 153, '4D SEDAN TOURING': 154, 'SPORT UTILITY': 155, '2D SPYDER GT': 156, '4D SUV LT': 157, '4D SEDAN LXI': 158, 'PASSENGER EXT 3.4L': 159, '4D SEDAN SE-R': 160, 'MINIVAN 3.8L LXI': 161, 'EXT CAB 5.3L LS': 162, '4D SUV 4.8L LS': 163, '4D SEDAN GT2': 164, '4D SPORT UTILITY LX': 165, '2D COUPE LT': 166, '4D SUV 4.0L XLT': 167, '2D COUPE EX AUTO': 168, '4D CUV 3.0L XLS': 169, '2D COUPE GS': 170, '4D SEDAN EXECUTIVE': 171, '4D SEDAN PREMIER': 172, '4D SEDAN EX AUTO': 173, '4D SUV 5.7L LIMITED': 174, 'MINIVAN 2.4L': 175, '4D SEDAN LIMITED': 176, 'CREW CAB 5.3L': 177, '4D SEDAN SL2': 178, '4D PASSENGER 3.8L SEL': 179, '4D SEDAN GXE': 180, '4D SEDAN SE AUTO': 181, '4D SEDAN ES HIGHLINE': 182, '4D SUV 5.9L SLT': 183, 'EXT CAB 5.3L': 184, 'PASSENGER 3.9L': 185, '4D SEDAN SL1': 186, '4D SEDAN CUSTOM': 187, 'QUAD CAB 3.7L': 188, '4D SPORT UTILITY ES': 189, '4D SEDAN LUXURY': 190, 'REG CAB 2.2L FFV': 191, '4D SEDAN SES DURATEC': 192, 'CREW CAB 4.6L XLT': 193, '4D SEDAN DE': 194, '4D SEDAN GL2': 195, '4D SUV 5.3L FFV LS': 196, '4D SEDAN 1.8S': 197, '2D COUPE SE AUTO': 198, '4D SEDAN 3.5L': 199, '2D HATCKBACK SI 5SP': 200, 'WAGON 3.5L SXT': 201, '4D SEDAN CX': 202, '2D QUAD COUPE LEVEL 3': 203, '4D SEDAN GLE': 204, '2D CONVERTIBLE': 205, '4D SEDAN 3.5L SE': 206, 'MINIVAN 3.3L SXT': 207, '4D SPORT UTILITY 2.5X': 208, '4D SPORT UTILITY XE': 209, 'EXT CAB 4.7L SLT': 210, '2D COUPE GT1': 211, '2D CONVERTIBLE SE': 212, '4D MINIVAN EXT 3.4L': 213, '4D HATCHBACK GS': 214, '4D SUV 5.3L LS': 215, 'EXT CAB 4.3L': 216, '4D UTILITY 4.2L': 217, 'MINIVAN 3.8L EX': 218, '4D SEDAN XR': 219, 'REG CAB 2.3L EDGE': 220, '4D SEDAN LT 3.8L FFV': 221, '2D COUPE GT': 222, '2D CONVERTIBLE DREAM CRUISER': 223, '4D PASSENGER 3.9L SES': 224, '2D COUPE SVT': 225, 'MINIVAN 3.3L FFV SE': 226, '4D CUV 3.0L LIMITED': 227, '4D SUV 4.0L': 228, 'QUAD CAB 4.7L SPORT': 229, '2D COUPE GLS': 230, '4D WAGON LW300': 231, 'REG CAB 3.9L': 232, '4D SEDAN LS CLASSIC': 233, 'EXT MINIVAN 3.3L LX': 234, 'EXT CAB 5.4L XL': 235, '4D SUV 4.0L XLS': 236, '2D QUAD COUPE LEVEL 2': 237, 'PASSENGER 3.9L SE': 238, '2D COUPE GL2': 239, '4D HARDTOP EX': 240, '4D SUV 4.8L': 241, 'EXT CAB 5.3L SLE': 242, 'EXT CAB 4.8L LS': 243, 'EXT CAB 4.6L XLT': 244, 'CREW CAB 5.6L SE': 245, '4D SUV 2.2L 1LT': 246, '4D MINIVAN EXT 3.5L': 247, '4D SEDAN LS 3.5L': 248, '2D COUPE SXT': 249, '4D SUV 4.2L LT': 250, '4D WAGON LX': 251, 'REG CAB 4.7L SLT': 252, '4D WAGON GT': 253, 'CARGO EXT 3.9L': 254, '4D SEDAN VALUE': 255, 'EXT CAB 5.6L': 256, '2D COUPE GTP': 257, 'EXT CAB 5.4L XLT': 258, 'REG CAB 4.7L': 259, '2D COUPE GL': 260, '4D CUV 3.0L': 261, 'UTILITY': 262, '4D SEDAN LIMITED AWD': 263, '4D SEDAN GT1': 264, '4D CUV GLS': 265, '4D SUV HARDTOP 2.0L': 266, 'MINIVAN 2.4L SE': 267, 'QUAD CAB 3.9L SLT': 268, 'EXT CAB 3.9L': 269, 'EXT CAB 5.4L LARIAT': 270, '4D WAGON LS PREMIUM': 271, '4D SEDAN CARTIER': 272, 'EXT CAB 4.7L LIMITED': 273, 'MINIVAN 3.8L EL': 274, '4D WAGON SEL DURATEC': 275, '4D SPORT UTILITY 5 PASS': 276, 'EXT CAB 2.4L XE': 277, 'EXT CAB 3.5L LS': 278, 'WAGON ES': 279, 'MINIVAN 3.3L LX POPULAR': 280, '4D WAGON LIMITED': 281, '4D CUV DLX': 282, 'REG CAB 5.7L ST': 283, '4D SEDAN SPECIAL': 284, 'REG CAB 4.6L XLT': 285, '4D SEDAN CXL': 286, '4D SEDAN SE SVG': 287, '4D SUV 4.0L SPORT TRAC': 288, 'PASSENGER 3.4L VALUE': 289, 'CREW CAB 5.4L HARLEY DAVIDSON': 290, '4D CUV 2.0L XLS': 291, '4D SPORTBACK LS': 292, 'MINIVAN 3.3L EL': 293, 'REG CAB 2.4L': 294, '2D SUV 4.0L SPORT XLS': 295, '4D WAGON LW200': 296, '4D SPORT UTILITY XLS': 297, '2D SEDAN': 298, 'PASSENGER 3.8L': 299, 'REG CAB 3.5L LS': 300, '4D SUV 4.7L SPORT': 301, '4D EXT CAB 3.0L FFV XLT': 302, '4D CUV 3.5L': 303, 'MINIVAN 2.4L LX': 304, 'PASSENGER 3.9L SEL': 305, 'REG CAB 2.3L': 306, '4D SEDAN L300': 307, '4D MINIVAN 3.4L': 308, '4D SUV 3.7L SXT': 309, '4D SUV CXL': 310, '4D SEDAN SE COMFORT DURATEC': 311, 'WAGON R/T': 312, '4D SEDAN ZX4 SES': 313, 'QUAD CAB 3.7L SLT': 314, '4D SEDAN 3.5L AWD': 315, 'REG CAB 4.8L LS': 316, '4D SEDAN CXS': 317, 'PASSENGER EXT 3.9L LS': 318, 'QUAD CAB 3.7L SPORT': 319, 'PASSENGER EXT 3.5L LT': 320, '4D SUV 4.7L SXT': 321, '4D SUV 5.7L': 322, 'EXT CAB 4.3L LS': 323, '4D SEDAN AWD SE': 324, '4D SEDAN DX AUTO': 325, '4D SEDAN LX 5SP': 326, '4D SEDAN SE AWD': 327, '4D WAGON CINCO': 328, '4D SEDAN PREMIER AWD': 329, 'EXT CAB 5.4L FX2 SPORT': 330, 'QUAD CAB 5.7L BIG HORN': 331, '4D SUV 4.7L FFV SXT': 332, '4D UTILITY 5.3L SLE': 333, '4D WAGON EX': 334, 'PASSENGER 4.2L SE': 335, 'CREW CAB 5.4L LARIAT': 336, '4D SEDAN GT TURBO': 337, '4D SPORT UTILITY LE': 338, '2D COUPE LIMTED': 339, '4D SEDAN RALLIART': 340, 'REG CAB 3.7L ST': 341, 'EXT CAB 3.0L EDGE': 342, 'PASSENGER EXT 3.9L LT': 343, '4D SUV 5.3L FFV': 344, '4D UTILITY 5.3L LS': 345, 'CREW CAB 5.3L SLE': 346, 'REG CAB 5.3L': 347, '4D UTILITY XUV 4.2L SLE': 348, '4D UTILITY 5.3L SLT': 349, '4D SUV 4.6L': 350, '2D COUPE EX 5SP': 351, '5D HATCHBACK I': 352, 'EXT CAB 2.8L LS': 353, 'REG CAB 3.7L SXT': 354, '5D SEDAN S': 355, '2D SPYDER GTS': 356, '4D PASSENGER 4.2L LIMITED': 357, '4D WAGON S': 358, '4D SUV 3.0L PREMIER': 359, '2D COUPE GL1': 360, '4D CUV DELUXE': 361, '4D SUV 5.7L HEMI SLT': 362, '4D SEDAN ZX4 ST': 363, '4D CROSSOVER SEL': 364, 'REG CAB 6.0L': 365, '4D SEDAN 2.4I': 366, 'MINIVAN 3.8L LIMITED': 367, '4D SEDAN SEL AWD': 368, '4D WAGON R/T': 369, '3D EXT CAB 2.2L': 370, '4D HATCHBACK ZX5 S': 371, '4D SEDAN AWD SEL': 372, 'WAGON LX': 373, '4D WAGON LS': 374, '4D SEDAN XL': 375, '4D SUV 4.0L EDDIE BAUER': 376, 'EXT CAB 4.2L XL': 377, '4D SUV 2.4L': 378, 'EXT CAB 3.9L SLT': 379, '4D SPORT UTILITY LIMITED FFV': 380, 'REG CAB 2.2L': 381, '4D SEDAN GTS': 382, '4D SEDAN 2.5 S': 383, 'QUAD CAB 4.7L ST': 384, '2D EXT CAB 3.0L': 385, '4D SUV 5.3L LT': 386, 'QUAD CAB 5.9L SLT': 387, 'EXT CAB 4.2L W/T': 388, '4D SUV 3.0L LUXURY': 389, 'REG CAB 4.8L': 390, '4D SUV 2.2L': 391, '2D HATCHBACK': 392, '4D SEDAN 2.5 SL': 393, '4D SPORT UTILITY XSPORT': 394, '4D SEDAN DX': 395, '4D HATCHBACK': 396, '4D SEDAN SEL DURATEC': 397, 'REG CAB 4.6L XL': 398, 'QUAD CAB 5.9L SPORT': 399, 'EXT CAB 6.0L': 400, 'EXT CAB 5.6L LE': 401, '4D UTILITY 5.3L FFV': 402, '4D HARDTOP LX': 403, 'CREW CAB 3.5L SL': 404, 'EXT CAB 4.8L SLE': 405, '4D SUV 2.3L CONVENIENCE': 406, 'CREW CAB 6.0L LS': 407, 'REG CAB 5.7L SLT': 408, '4D UTILITY 4.8L SLE': 409, 'REG CAB 5.4L XL': 410, 'EXT CAB 4.0L LE': 411, 'EXT CAB 8.1L LS': 412, 'CREW CAB 4.3L LS': 413, 'REG CAB 4.3L LS': 414, 'EXT CAB 3.5L': 415, 'REG CAB 4.3L SLE': 416, 'PASSENGER 3.9L LS': 417, 'CREW CAB 3.5L LS': 418, 'CREW CAB 4.7L SR5': 419, '4D SEDAN AUTO': 420, 'CREW CAB 3.5L Z71': 421, 'CREW CAB 5.6L': 422, '4D SUV 4.7L SL': 423, 'EXT CAB 2.8L': 424, 'MINIVAN 3.8L ES': 425, '4D SUV 5.7L HEMI LIMITED': 426, '2D COUPE R/T': 427, 'REG CAB 5.3L LS': 428, '4D UTILITY 4.8L': 429, 'REG CAB 3.5L SL': 430, '4D WAGON LAREDO FFV': 431, '4D SEDAN SS': 432, 'CREW CAB 5.6L LE': 433, 'CREW CAB 4.8L': 434, '2D COUPE EX 6SP': 435, '4D SEDAN HYBRID': 436, '4D SEDAN GX': 437, '4D SUV SPORT 2.4L': 438, 'EXT CAB 3.7L SLT': 439, 'MINIVAN EX-L': 440, 'PASSENGER EXT 3.9L': 441, 'MAZDA5 GRAND TOURING': 442, '4D WAGON ZX5': 443, '2D COUPE LX AUTO': 444, '2D COUPE RS': 445, '4D SEDAN LIMITED TURBO': 446, '4D SUV 4.7L LIMITED': 447, '2D COUPE LX': 448, '4D SUV 5.4L': 449, '3D EXT CAB 4.3L': 450, 'REG CAB 4.7L FFV': 451, '4D SEDAN R/T': 452, '4D WAGON GS': 453, '4D SPORT UTILITY 3.5L XLS': 454, '4D SUV 4.0L FFV LIMITED': 455, 'EXT CAB 5.3L SL': 456, '4D UTILITY 4.8L SLT': 457, '4D SUV 2.3L': 458, 'ACCESS CAB 4.7L SR5': 459, '4D SEDAN SLE': 460, '5D HATCHBACK S': 461, '4D SEDAN Z24': 462, 'WAGON DX': 463, '4D SEDAN AWD': 464, '2D HATCHBACK ZX3': 465, 'REG CAB 4.0L': 466, '4D WAGON OVERLAND': 467, '4D EXT CAB 3.0L EDGE': 468, 'EXT CAB 6.0L LS': 469, '4D MINIVAN 3.4L VALUE': 470, '4D SEDAN EX AUTO NAVIGATION': 471, '4D WAGON CONVENIENCE': 472, '4D SPORT UTILITY DX': 473, '4D SUV 4.7L FFV SLT': 474, '4D HATCHBACK AWD': 475, '4D UTILITY 6.0L DENALI': 476, 'DOUBLE CAB 4.7L SR5': 477, '4D SEDAN XRS': 478, '3D COUPE SC2': 479, '4D SEDAN FFV TOURING': 480, '4D SEDAN GS 3.0L FFV': 481, '4D UTILITY 5.3L': 482, '4D WAGON GRAND TOURING': 483, '4D CUV GL': 484, '4D PASSENGER 3.8L SEL LIMITED': 485, '4D PASSENGER 3.8L SE SPORT': 486, 'EXT CAB 4.7L SR5': 487, '2D COUPE AUTO': 488, '2D COUPE LX 5SP': 489, '5D SEDAN ZX5': 490, 'CREW CAB 3.3L XE': 491, '4D SPORT UTILITY XL7': 492, '4D WAGON SE DURATEC': 493, '4D SEDAN SIGNATURE': 494, '4D SPORT UTILITY LIMITED': 495, 'REG CAB 2.5L EDGE': 496, 'QUAD CAB 4.7L FFV SLT': 497, '3D COUPE SC1': 498, '4D SPORT UTILITY 3.5L XS': 499, 'REG CAB 2.2L SL': 500, 'EXT CAB 2.2L LS': 501, '4D SPORT UTILITY LEVEL 3': 502, '2D HATCHBACK GS': 503, 'EXT CAB 4.6L LARIAT': 504, '4D SPORT UTILITY SL': 505, 'CREW CAB 4.6L LARIAT': 506, '4D SPORT UTILITY EX AUTO': 507, '4D SEDAN HEMI': 508, '4D WAGON SE COMFORT': 509, 'EXT CAB 3.5L Z71 LS': 510, '4D HATCHBACK ZX5': 511, 'EXT CAB 3.7L SXT': 512, '2D ROADSTER': 513, '2D SPYDER GS': 514, '4D SUV ULTRA': 515, '4D PASSENGER 4.2L SEL': 516, '2D HARTOP CONVERTIBLE GT': 517, '4D SEDAN LS 3.6L': 518, '4D SEDAN VALUE AUTO': 519, '2D COUPE ZX2': 520, '4D UTILITY 4.2L SLT': 521, '4D SEDAN VP AUTO': 522, '4D CUV 2.3L XLT': 523, '4D SUV HARDTOP 2.5L ZR2': 524, '5D SEDAN I': 525, '2D COUPE GX': 526, 'BASE': 527, 'QUAD CAB 3.9L SPORT': 528, 'REG CAB 4.2L W/T': 529, '4D SUV 4.0L FFV EDDIE BAUER': 530, 'DOUBLE CAB DURO CROSS 3.7L': 531, '4D CUV 3.5L GLS': 532, '4D SEDAN O-Z RALLY': 533, 'EXT CAB 3.0L SE': 534, '4D SEDAN 2.5L': 535, 'EXT CAB 5.9L R/T': 536, 'EXT CAB 4.7L FFV ST': 537, 'CREW CAB 5.3L LS': 538, 'PASSENGER EXT 3.4L WARNER BROS': 539, '2D CONVERTIBLE GT': 540, '4D WAGON ZXW': 541, 'CREW CAB 4.0L LE': 542, '4D SPORT UTILITY EX-P': 543, '4D SUV LIMITED 2.4L': 544, '4D SUV 5.7L HEMI': 545, '4D SPORT UTILITY SR5': 546, '2D EXT CAB 2.3L XL': 547, 'EXT CAB 3.9L SXT': 548, 'EXT CAB 4.3L SL': 549, 'REG CAB 4.0L XL': 550, '4D SPORT UTILITY PREMIUM': 551, '4D SEDAN SVT': 552, '4D SEDAN ZX5': 553, '4D SEDAN 6SP': 554, '4D WAGON OUTBACK': 555, '4D SPORT UTILITY LX AUTO': 556, '4D UTILITY 5.3L LT': 557, '4D UTILITY 5.3L FFV LT': 558, '2D COUPE GT PREMIUM': 559, 'EXT CAB 4.2L XLT': 560, '2D COUPE LXI': 561, 'REG CAB 5.4L XLT': 562, '4D UTILITY 6.0L': 563, 'REG CAB 5.3L SLE': 564, 'EXT CAB 2.2L FFV': 565, 'REG CAB 5.7L HEMI': 566, 'REG CAB 2.2L FFV SL': 567, 'QUAD CAB 4.7L FFV': 568, 'REG CAB 4.0L EDGE': 569, 'QUAD CAB 4.7L LARAMIE': 570, '4D SUV 2.4L LT': 571, 'QUAD CAB 5.7L LARAMIE': 572, 'MINIVAN 3.3L CARGO': 573, 'EXT CAB 4.3L SLE': 574, 'EXT CAB 5.4L KING RANCH': 575, 'MINIVAN 2.4L EC': 576, '4D EXT CAB 4.0L EDGE': 577, 'WAGON 2.7L SE': 578, '2D COUPE DX 5SP': 579, '2D COUPE DX AUTO': 580, '4D SEDAN 1LT': 581, '4D SEDAN SE2': 582, '4D SPORT UTILITY TOURING': 583, '4D SUV-PICKUP 5.3L Z66': 584, 'EXT CAB 5.4L HERITAGE': 585, 'EXT CAB 3.4L SR5': 586, '2D COUPE Z24': 587, 'CREW CAB 2.8L LS': 588, '4D SEDAN EX 5SP': 589, '4D SUV HARDTOP 2.2L LT': 590, 'QUAD CAB 5.9L': 591, 'EXT CAB 2.9L LS': 592, 'CREW CAB 4.0L SE': 593, 'CREW CAB 4.8L LS': 594, '4D SPORT UTILITY OFF-ROAD': 595, 'MINIVAN 3.3L FFV SXT': 596, '4D SEDAN TYPE S': 597, 'EXT CAB 3.4L PRERUNNER SR5': 598, '2D LIFTBACK GT': 599, 'EXT CAB 5.4L FX4': 600, '4D CUV 3.6L XE': 601, '2D HATCHBACK S': 602, 'EXT CAB 5.4L FFV FX4': 603, '4D SPORT UTILITY TOURING NAV': 604, '2D CONVERTIBLE LIMITED': 605, 'QUAD CAB 4.7L BIG HORN': 606, '4D SEDAN 2.5T': 607, 'REG CAB 3.9L SXT': 608, '4D SUV 4.6L LIMITED': 609, 'MINIVAN 3.8L TOURING': 610, 'REG CAB 3.0L XL': 611, 'EXT CAB 5.3L LT Z71': 612, '2D CONVERTIBLE SLE': 613, 'REG CAB 4.2L XLT': 614, '4D SUV 4.0L PREMIER': 615, '2D CONVERTIBLE GLS': 616, '2D COUPE SE1': 617, '4D HATCHBACK ZX5 SE': 618, '4D SEDAN L AWD': 619, 'EXT CAB 2.4L LE': 620, '4D WAGON OUTBACK SPORT': 621, 'REG CAB 4.6L W/T': 622, '4D SEDAN 2.5I': 623, 'EXT CAB 2.4L SE': 624, 'REG CAB 5.7L': 625, '2D EXT CAB 3.0L DUAL SPORT FFV': 626, 'EXT CAB 2.5L': 627, 'EXT CAB 5.6L SE': 628, '4D MINIVAN EXT 3.4L GL': 629, 'PASSENGER EXT 3.4L LT': 630, '4D SEDAN LS FFV': 631, '4D SUV 5.3L FFV LT': 632, '4D SUV 3.7L ST': 633, '4D SEDAN SX': 634, 'EXT CAB 5.6L XE': 635, '4D EXT CAB 3.0L XLT': 636, '4D HATCHBACK ZX5 SES': 637, '4D SEDAN XLE': 638, 'CREW CAB 3.5L SLE': 639, '2D EXT CAB 3.0L XLT': 640, '4D SUV 4.2L LTZ': 641, '4D WAGON SX': 642, 'CREW CAB 5.4L FFV FX4': 643, 'EXT CAB 5.3L LT': 644, 'QUAD CAB 3.7L SXT': 645, 'CREW CAB 5.6L XE': 646, 'REG CAB 3.0L SPORT': 647, '4D SUV SPORT 2.0L': 648, '4D SUV 2.2L PANEL SS': 649, '4D SEDAN SL': 650, '4D SPORT UTILITY X': 651, 'QUAD CAB 4.7L SLT FFV': 652, 'EXT CAB 4.0L EDGE': 653, 'REG CAB 2.5L': 654, 'CREW CAB 6.0L SLT': 655, 'QUAD CAB 4.7L FFV LONESTAR': 656, 'CREW CAB 5.4L XLT': 657, '2D COUPE TYPE S': 658, '4D SUV 5.9L R/T': 659, '4D SPORT UTILITY HYBRID LIMITED': 660, '4D SEDAN OZ': 661, '4D SUV 5.4L XLS': 662, 'CREW CAB 6.0L LT': 663, 'CREW CAB 4.7L LIMITED': 664, '2D CONVERTIBLE LXI': 665, '4D SEDAN PKG2': 666, '2D HATCHBACK GT': 667, 'MINIVAN 3.3': 668, '2D SPORT UTILITY': 669, 'PASSENGER EXT 3.4L ENTERTAINER': 670, '4D SEDAN 2.5L GLS': 671, '4D SEDAN NAVIGATION': 672, 'MINIVAN LX': 673, 'REG CAB 4.3L SL': 674, '4D SEDAN 2.5 SE': 675, '4D SEDAN AWD 3.5L': 676, '2D COUPE ZX3 S': 677, '0': 678, 'CREW CAB 6.0L': 679, '5D MINIVAN LE': 680, '4D SUV 3.7L SE': 681, 'JEEP X': 682, '2D COUPE 5SP': 683, 'REG CAB 2.3L XLT': 684, 'WAGON 4D': 685, '4D WAGON CLASSIC': 686, '2D EXT CAB 3.0L SE': 687, 'EXT CAB 4.7L ST': 688, 'CREW CAB 2.8L': 689, '4D SUV-PICKUP 8.1L': 690, 'EXT CAB 5.4L HARLEY DAVIDSON': 691, 'REG CAB 2.9L LS': 692, 'REG CAB 2.5L XLT': 693, '4D WAGON SL': 694, 'REG CAB 2.3L XL': 695, '4D CUV 2.2L XE': 696, '2D EXT CAB 3.0L DUAL SPORT': 697, 'REG CAB 4.8L SL': 698, '2D SUV CONVERTIBLE 2.0L': 699, 'EXT CAB 4.6L HERITAGE XL': 700, '4D EXT CAB 4.0L FX4': 701, 'CREW CAB 4.6L KING RANCH': 702, '2D SEDAN GX': 703, 'DOUBLE CAB LS 3.7L': 704, '4D SEDAN LUXURY AWD': 705, 'EXT CAB 4.7L': 706, 'EXT CAB 4.6L LARIAT FX4 OFF-RD': 707, '4D WAGON LUXURY': 708, '4D WAGON 2.5I': 709, '4D EXT CAB 4.0L XL': 710, '2D EXT CAB 4.0L XL': 711, '4D SEDAN TURBO': 712, 'CREW CAB 3.4L PRERUNNER': 713, 'EXT CAB 2.4L': 714, 'CREW CAB 3.3L': 715, 'ACCESS CAB 4.0L SR5': 716, '4D SEDAN SPORT': 717, '4D SEDAN VP 5SP': 718, 'REG CAB 5.4L W/T': 719, '4D WAGON 2.4L': 720, 'CREW CAB 5.3L LT': 721, 'CARGO EXT 3.5L LT': 722, '4D WAGON SE FFV': 723, '4D SEDAN MAZDASPEED': 724, 'EXT CAB 3.0L XLT': 725, '4D SEDAN TYPE S NAVIGATION': 726, 'REG CAB 5.4L FX4': 727, '4D UTILITY DENALI 6.0L': 728, 'REG CAB 3.4L': 729, 'REG CAB 3.0L XLT': 730, 'EXT CAB 4.0L XLT': 731, 'EXT CAB 4.0L NISMO': 732, 'MINIVAN 3.8L LX': 733, '4D WAGON LIMITED HEMI': 734, '2D COUPE ZX5 S': 735, 'CREW CAB 3.5L': 736, 'CREW CAB 5.4L FX4': 737, 'REG CAB 4.8L SLE': 738, 'MEGA CAB 5.7L': 739, 'EXT CAB 6.0L SLE': 740, 'CREW CAB 3.3L SE': 741, '2D COUPE DX VALUE PACKAGE AUTO': 742, '4D SUV 4.7L FFV LIMITED': 743, '4D WAGON L': 744, 'CREW CAB 5.4L FX2 SPORT': 745, '4D WAGON SE COMFORT DURATEC': 746, '4D SPORT UTILITY TOURING NAV DVD': 747, '4D SPORT UTILITY BASE': 748, 'EXT CAB 4.6L XL': 749, '4D SUV 5.3L FFV Z71': 750, '2D CONVERTIBLE GL': 751, '2D EXT CAB 4.0L EDGE': 752, 'EXT CAB 3.3L XE': 753, '4D WAGON R/T AWD': 754, '4D SEDAN XLS': 755, '4D SEDAN LT CLASSIC': 756, '4D SEDAN 3.5L SXT': 757, '4D SEDAN CARTIER L': 758, 'EXT CAB LS 3.7L': 759, '4D SEDAN T5': 760, 'PASSENGER 3.9L LIMITED': 761, 'REG CAB 6.0L LS': 762, '4D UTILITY XUV 5.3L SLE': 763, '4D SUV 4.0L CONVENIENCE': 764, 'EXT CAB LS SPECIAL 3.7L': 765, '4D HARDTOP JLS': 766, '4D SPORT UTILITY 4XMOTION': 767, '4D EXT CAB 3.0L': 768, 'REG CAB 2.7L PRERUNNER SR5': 769, 'EXT CAB 3.9L BASE': 770, 'REG CAB 2.3L STX': 771, 'MEGA CAB 5.7L SLT': 772, 'REG CAB 2.7L': 773, '4D SPORT UTILITY JS': 774, 'MINIVAN 3.3L LXI': 775, 'REG CAB 5.9L SLT': 776, '4D CUV 2.0L XLT': 777, '4D SEDAN 2.5L PKG 2': 778, 'REG CAB 4.7L ST': 779, '4D SEDAN VALUE PACKAGE AUTO': 780, '2D COUPE GTS': 781, '4D CROSSOVER SE': 782, 'CREW CAB LIMITED': 783, 'CARGO 3.9L': 784, 'REG CAB 5.2L LARAMIE': 785, '4D SPORT UTILITY SXT': 786, 'EXT CAB 3.9L SPORT': 787, '4D CROSSOVER SEL PLUS': 788, '4D SUV 5.9L SXT': 789, '4D SUV 4.0L LIMITED': 790, 'CREW CAB 5.4L XL': 791, '4D SEDAN ZX4 S': 792, 'REG CAB 3.9L SPORT': 793, 'JEEP SPORT': 794, '4D WAGON FREEDOM': 795, '4D SUV 4.7L SLT PLUS': 796, '4D SEDAN 3.5L AWD SXT': 797, '4D SEDAN 2.0L GLS': 798, '4D SUV HARDTOP 2.2L ZR2': 799, 'WAGON SXT AWD': 800, '4D SUV 4.8L LT': 801, '4D WAGON 1.8L': 802, 'REG CAB 2.8L LS': 803, '4D WAGON SEL': 804, '4D SUV 6.2L LUXURY': 805, '2D COUPE LTZ': 806, '4D UTILITY 5.3L FFV Z71': 807, '4D WAGON CXL': 808, '4D SPORT UTILITY GRAND TOURING A': 809, 'REG CAB 3.7L SLT': 810, 'REG CAB 4.3L W/T': 811, '4D WAGON LL BEAN': 812, 'SPORT UTILITY 7 PASSENGER': 813, '4D SEDAN 2.5RS': 814, '2D EXT CAB 3.0L XL': 815, '3D EXT CAB 2.2L FFV': 816, '2D SUV 4.0L SPORT XLT': 817, 'MAZDA3 4D I TOURING VALUE': 818, '4D SPORT WAGON 2.5I': 819, '4D SEDAN HYBRID AUTO': 820, 'DOUBLE CAB LS SPECIAL 3.7L': 821, '4D SUV 5.3L XLT': 822, '4D WAGON ROCKY MOUNTAIN EDITION': 823, '4D SUV 2.5L PREMIER': 824, '4D SUV 2.2L PANEL LS': 825, '4D SPORT UTILITY LUXURY': 826, 'EXT CAB DURO CROSS 3.7L': 827, 'PASSENGER 3.4L LS': 828, '4D SEDAN SIGNATURE LTD': 829, 'CREW CAB 3.5L Z71 LS': 830, '4D SUV 2.4L LUXURY': 831, '2D EXT CAB 2.3L EDGE': 832, '4D EXT CAB 3.0L XL': 833, '4D SEDAN 2.7L SXT': 834, '4D SPORT UTILITY JLX': 835, '4D SUV 6.0L LS': 836, '5D MINIVAN CE': 837, 'EXT CAB 4D 5.2L LARAMIE SLT': 838, '4D SEDAN 2.0L GL': 839, 'MAZDA3 4D I': 840, '2D COUPE TYPE S NAVIGATION AUTO': 841, '4D SUV 4.0L LUXURY': 842, '2D ROADSTER GXP': 843, '4D SPORT UTILITY SE SUPERCHARGED': 844, '4D SUV 4.0L SPORT TRAC FFV XLS': 845, 'MINIVAN EX': 846, '4D EXT CAB 4.0L XLT': 847, 'EXT CAB 4.3L W/T': 848, 'CREW CAB 2.9L LT': 849, 'EXT CAB 4D 5.9L LARAMIE SLT': 850, 'EXT CAB 3.5L SLE': 851, '4D SUV 5.9L SLT PLUS': 852, 'EXT CAB 3.7L ST': 853, 'REG CAB 3.7L LS': 854, 'CREW CAB 5.7L LIMITED': 855, '4D SUV 5.9L SPORT': 856, '2D COUPE ZX3 SES': 857, 'REG CAB 3.5L Z71': 858, '5D SEDAN S GRAND TOURING': 859, '4D SEDAN 35TH ANNIVERSARY AWD': 860, 'REG CAB 3.7L STAMPEDE': 861, 'EXT CAB 4.0L SE': 862, 'MINIVAN 3.3L FFV EL': 863}\n",
      "{'FL': 0, 'VA': 1, 'IA': 2, 'AR': 3, 'MN': 4, 'TN': 5, 'PA': 6, 'OH': 7, 'AL': 8, 'MI': 9, 'TX': 10, 'IL': 11, 'MA': 12, 'AZ': 13, 'GA': 14, 'NC': 15, 'MD': 16, 'CA': 17, 'UT': 18, 'OR': 19, 'SC': 20, 'CO': 21, 'ID': 22, 'NV': 23, 'WV': 24, 'MS': 25, 'OK': 26, 'NM': 27, 'LA': 28, 'IN': 29, 'MO': 30, 'WA': 31, 'NH': 32, 'NJ': 33, 'NY': 34, 'NE': 35, 'KY': 36}\n",
      "{'AUTO': 0, 'MANUAL': 1, nan: 2, '0': 3, 'Manual': 4}\n",
      "{'Alloy': 0, 'Covers': 1, '0': 2, 'Special': 3}\n",
      "{'MEDIUM': 0, 'LARGE TRUCK': 1, 'COMPACT': 2, 'LARGE': 3, 'VAN': 4, 'MEDIUM SUV': 5, 'LARGE SUV': 6, 'SPECIALTY': 7, 'SPORTS': 8, 'CROSSOVER': 9, 'SMALL SUV': 10, 'SMALL TRUCK': 11, '0': 12}\n",
      "{'OTHER ASIAN': 0, 'AMERICAN': 1, 'TOP LINE ASIAN': 2, 'OTHER': 3, '0': 4}\n",
      "{'OTHER': 0, 'CHRYSLER': 1, 'FORD': 2, 'GM': 3, '0': 4}\n",
      "{'ADESA': 0, 'OTHER': 1, 'MANHEIM': 2}\n",
      "{'RED': 0, 'WHITE': 1, 'MAROON': 2, 'SILVER': 3, 'BLACK': 4, 'GOLD': 5, 'GREY': 6, 'BLUE': 7, 'BEIGE': 8, 'PURPLE': 9, 'ORANGE': 10, 'GREEN': 11, 'BROWN': 12, 'YELLOW': 13, 'NOT AVAIL': 14, 'OTHER': 15, '0': 16}\n"
     ]
    }
   ],
   "source": [
    "\n",
    "\n",
    "value_to_index_make = {value: index for index, value in enumerate(fd['Make'].unique())}\n",
    "\n",
    "value_to_index_model = {value: index for index, value in enumerate(fd['Model'].unique())}\n",
    "\n",
    "value_to_index_trim = {value: index for index, value in enumerate(fd['Trim'].unique())}\n",
    "\n",
    "value_to_index_subModel = {value: index for index, value in enumerate(fd['SubModel'].unique())}\n",
    "\n",
    "value_to_index_VNST = {value: index for index, value in enumerate(fd['VNST'].unique())}\n",
    "\n",
    "value_to_index_Transmission = {value: index for index, value in enumerate(fd['Transmission'].unique())}\n",
    "value_to_index_WheelType = {value: index for index, value in enumerate(fd['WheelType'].unique())}\n",
    "value_to_index_Size = {value: index for index, value in enumerate(fd['Size'].unique())}\n",
    "value_to_index_Nationality = {value: index for index, value in enumerate(fd['Nationality'].unique())}\n",
    "value_to_index_TopThreeAmericanName = {value: index for index, value in enumerate(fd['TopThreeAmericanName'].unique())}\n",
    "value_to_index_Auction = {value: index for index, value in enumerate(fd['Auction'].unique())}\n",
    "value_to_index_Color = {value: index for index, value in enumerate(fd['Color'].unique())}\n",
    "# value_to_index_isBadBuy = {value: index for index, value in enumerate(fd['IsBadBuy'].unique())}\n",
    "\n",
    "\n",
    "\n",
    "print(value_to_index_make)\n",
    "\n",
    "print(value_to_index_model)\n",
    "\n",
    "print(value_to_index_trim)\n",
    "\n",
    "print(value_to_index_subModel)\n",
    "\n",
    "print(value_to_index_VNST)\n",
    "\n",
    "print(value_to_index_Transmission)\n",
    "\n",
    "print(value_to_index_WheelType)\n",
    "\n",
    "print(value_to_index_Size)\n",
    "\n",
    "print(value_to_index_Nationality)\n",
    "\n",
    "print(value_to_index_TopThreeAmericanName)\n",
    "\n",
    "print(value_to_index_Auction)\n",
    "\n",
    "print(value_to_index_Color)\n",
    "\n"
   ]
  },
  {
   "cell_type": "code",
   "execution_count": 70,
   "metadata": {},
   "outputs": [
    {
     "ename": "KeyError",
     "evalue": "'isBadBuy'",
     "output_type": "error",
     "traceback": [
      "\u001b[0;31m---------------------------------------------------------------------------\u001b[0m",
      "\u001b[0;31mKeyError\u001b[0m                                  Traceback (most recent call last)",
      "File \u001b[0;32m/Library/Frameworks/Python.framework/Versions/3.12/lib/python3.12/site-packages/pandas/core/indexes/base.py:3805\u001b[0m, in \u001b[0;36mIndex.get_loc\u001b[0;34m(self, key)\u001b[0m\n\u001b[1;32m   3804\u001b[0m \u001b[38;5;28;01mtry\u001b[39;00m:\n\u001b[0;32m-> 3805\u001b[0m     \u001b[38;5;28;01mreturn\u001b[39;00m \u001b[38;5;28;43mself\u001b[39;49m\u001b[38;5;241;43m.\u001b[39;49m\u001b[43m_engine\u001b[49m\u001b[38;5;241;43m.\u001b[39;49m\u001b[43mget_loc\u001b[49m\u001b[43m(\u001b[49m\u001b[43mcasted_key\u001b[49m\u001b[43m)\u001b[49m\n\u001b[1;32m   3806\u001b[0m \u001b[38;5;28;01mexcept\u001b[39;00m \u001b[38;5;167;01mKeyError\u001b[39;00m \u001b[38;5;28;01mas\u001b[39;00m err:\n",
      "File \u001b[0;32mindex.pyx:167\u001b[0m, in \u001b[0;36mpandas._libs.index.IndexEngine.get_loc\u001b[0;34m()\u001b[0m\n",
      "File \u001b[0;32mindex.pyx:196\u001b[0m, in \u001b[0;36mpandas._libs.index.IndexEngine.get_loc\u001b[0;34m()\u001b[0m\n",
      "File \u001b[0;32mpandas/_libs/hashtable_class_helper.pxi:7081\u001b[0m, in \u001b[0;36mpandas._libs.hashtable.PyObjectHashTable.get_item\u001b[0;34m()\u001b[0m\n",
      "File \u001b[0;32mpandas/_libs/hashtable_class_helper.pxi:7089\u001b[0m, in \u001b[0;36mpandas._libs.hashtable.PyObjectHashTable.get_item\u001b[0;34m()\u001b[0m\n",
      "\u001b[0;31mKeyError\u001b[0m: 'isBadBuy'",
      "\nThe above exception was the direct cause of the following exception:\n",
      "\u001b[0;31mKeyError\u001b[0m                                  Traceback (most recent call last)",
      "Cell \u001b[0;32mIn[70], line 13\u001b[0m\n\u001b[1;32m     11\u001b[0m fd[\u001b[38;5;124m'\u001b[39m\u001b[38;5;124mAuction\u001b[39m\u001b[38;5;124m'\u001b[39m] \u001b[38;5;241m=\u001b[39m fd[\u001b[38;5;124m'\u001b[39m\u001b[38;5;124mAuction\u001b[39m\u001b[38;5;124m'\u001b[39m]\u001b[38;5;241m.\u001b[39mapply(\u001b[38;5;28;01mlambda\u001b[39;00m x: value_to_index_Auction\u001b[38;5;241m.\u001b[39mget(x, \u001b[38;5;241m-\u001b[39m\u001b[38;5;241m1\u001b[39m))\n\u001b[1;32m     12\u001b[0m fd[\u001b[38;5;124m'\u001b[39m\u001b[38;5;124mColor\u001b[39m\u001b[38;5;124m'\u001b[39m] \u001b[38;5;241m=\u001b[39m fd[\u001b[38;5;124m'\u001b[39m\u001b[38;5;124mColor\u001b[39m\u001b[38;5;124m'\u001b[39m]\u001b[38;5;241m.\u001b[39mapply(\u001b[38;5;28;01mlambda\u001b[39;00m x: value_to_index_Color\u001b[38;5;241m.\u001b[39mget(x, \u001b[38;5;241m-\u001b[39m\u001b[38;5;241m1\u001b[39m))\n\u001b[0;32m---> 13\u001b[0m fd[\u001b[38;5;124m'\u001b[39m\u001b[38;5;124misBadBuy\u001b[39m\u001b[38;5;124m'\u001b[39m] \u001b[38;5;241m=\u001b[39m \u001b[43mfd\u001b[49m\u001b[43m[\u001b[49m\u001b[38;5;124;43m'\u001b[39;49m\u001b[38;5;124;43misBadBuy\u001b[39;49m\u001b[38;5;124;43m'\u001b[39;49m\u001b[43m]\u001b[49m\u001b[38;5;241m.\u001b[39mapply(\u001b[38;5;28;01mlambda\u001b[39;00m x: value_to_index_Color\u001b[38;5;241m.\u001b[39mget(x, \u001b[38;5;241m-\u001b[39m\u001b[38;5;241m1\u001b[39m))\n\u001b[1;32m     16\u001b[0m fd\n",
      "File \u001b[0;32m/Library/Frameworks/Python.framework/Versions/3.12/lib/python3.12/site-packages/pandas/core/frame.py:4102\u001b[0m, in \u001b[0;36mDataFrame.__getitem__\u001b[0;34m(self, key)\u001b[0m\n\u001b[1;32m   4100\u001b[0m \u001b[38;5;28;01mif\u001b[39;00m \u001b[38;5;28mself\u001b[39m\u001b[38;5;241m.\u001b[39mcolumns\u001b[38;5;241m.\u001b[39mnlevels \u001b[38;5;241m>\u001b[39m \u001b[38;5;241m1\u001b[39m:\n\u001b[1;32m   4101\u001b[0m     \u001b[38;5;28;01mreturn\u001b[39;00m \u001b[38;5;28mself\u001b[39m\u001b[38;5;241m.\u001b[39m_getitem_multilevel(key)\n\u001b[0;32m-> 4102\u001b[0m indexer \u001b[38;5;241m=\u001b[39m \u001b[38;5;28;43mself\u001b[39;49m\u001b[38;5;241;43m.\u001b[39;49m\u001b[43mcolumns\u001b[49m\u001b[38;5;241;43m.\u001b[39;49m\u001b[43mget_loc\u001b[49m\u001b[43m(\u001b[49m\u001b[43mkey\u001b[49m\u001b[43m)\u001b[49m\n\u001b[1;32m   4103\u001b[0m \u001b[38;5;28;01mif\u001b[39;00m is_integer(indexer):\n\u001b[1;32m   4104\u001b[0m     indexer \u001b[38;5;241m=\u001b[39m [indexer]\n",
      "File \u001b[0;32m/Library/Frameworks/Python.framework/Versions/3.12/lib/python3.12/site-packages/pandas/core/indexes/base.py:3812\u001b[0m, in \u001b[0;36mIndex.get_loc\u001b[0;34m(self, key)\u001b[0m\n\u001b[1;32m   3807\u001b[0m     \u001b[38;5;28;01mif\u001b[39;00m \u001b[38;5;28misinstance\u001b[39m(casted_key, \u001b[38;5;28mslice\u001b[39m) \u001b[38;5;129;01mor\u001b[39;00m (\n\u001b[1;32m   3808\u001b[0m         \u001b[38;5;28misinstance\u001b[39m(casted_key, abc\u001b[38;5;241m.\u001b[39mIterable)\n\u001b[1;32m   3809\u001b[0m         \u001b[38;5;129;01mand\u001b[39;00m \u001b[38;5;28many\u001b[39m(\u001b[38;5;28misinstance\u001b[39m(x, \u001b[38;5;28mslice\u001b[39m) \u001b[38;5;28;01mfor\u001b[39;00m x \u001b[38;5;129;01min\u001b[39;00m casted_key)\n\u001b[1;32m   3810\u001b[0m     ):\n\u001b[1;32m   3811\u001b[0m         \u001b[38;5;28;01mraise\u001b[39;00m InvalidIndexError(key)\n\u001b[0;32m-> 3812\u001b[0m     \u001b[38;5;28;01mraise\u001b[39;00m \u001b[38;5;167;01mKeyError\u001b[39;00m(key) \u001b[38;5;28;01mfrom\u001b[39;00m \u001b[38;5;21;01merr\u001b[39;00m\n\u001b[1;32m   3813\u001b[0m \u001b[38;5;28;01mexcept\u001b[39;00m \u001b[38;5;167;01mTypeError\u001b[39;00m:\n\u001b[1;32m   3814\u001b[0m     \u001b[38;5;66;03m# If we have a listlike key, _check_indexing_error will raise\u001b[39;00m\n\u001b[1;32m   3815\u001b[0m     \u001b[38;5;66;03m#  InvalidIndexError. Otherwise we fall through and re-raise\u001b[39;00m\n\u001b[1;32m   3816\u001b[0m     \u001b[38;5;66;03m#  the TypeError.\u001b[39;00m\n\u001b[1;32m   3817\u001b[0m     \u001b[38;5;28mself\u001b[39m\u001b[38;5;241m.\u001b[39m_check_indexing_error(key)\n",
      "\u001b[0;31mKeyError\u001b[0m: 'isBadBuy'"
     ]
    }
   ],
   "source": [
    "fd['Make'] = fd['Make'].apply(lambda x: value_to_index_make.get(x, -1))\n",
    "fd['Model'] = fd['Model'].apply(lambda x: value_to_index_model.get(x, -1))\n",
    "fd['Trim'] = fd['Trim'].apply(lambda x: value_to_index_trim.get(x, -1))\n",
    "fd['SubModel'] = fd['SubModel'].apply(lambda x: value_to_index_subModel.get(x, -1))\n",
    "fd['VNST'] = fd['VNST'].apply(lambda x: value_to_index_VNST.get(x, -1))\n",
    "fd['Transmission'] = fd['Transmission'].apply(lambda x: value_to_index_Transmission.get(x, -1))\n",
    "fd['WheelType'] = fd['WheelType'].apply(lambda x: value_to_index_WheelType.get(x, -1))\n",
    "fd['Size'] = fd['Size'].apply(lambda x: value_to_index_Size.get(x, -1))\n",
    "fd['Nationality'] = fd['Size'].apply(lambda x: value_to_index_Nationality.get(x, -1))\n",
    "fd['TopThreeAmericanName'] = fd['Size'].apply(lambda x: value_to_index_TopThreeAmericanName.get(x, -1))\n",
    "fd['Auction'] = fd['Auction'].apply(lambda x: value_to_index_Auction.get(x, -1))\n",
    "fd['Color'] = fd['Color'].apply(lambda x: value_to_index_Color.get(x, -1))\n",
    "fd['isBadBuy'] = fd['isBadBuy'].apply(lambda x: value_to_index_Color.get(x, -1))\n",
    "\n",
    "\n",
    "fd"
   ]
  },
  {
   "cell_type": "code",
   "execution_count": null,
   "metadata": {},
   "outputs": [],
   "source": [
    "import numpy as np\n",
    "from sklearn.linear_model import LogisticRegression\n",
    "\n"
   ]
  },
  {
   "cell_type": "code",
   "execution_count": null,
   "metadata": {},
   "outputs": [
    {
     "data": {
      "text/plain": [
       "Index(['RefId', 'IsBadBuy', 'PurchDate', 'Auction', 'VehYear', 'VehicleAge',\n",
       "       'Make', 'Model', 'Trim', 'SubModel', 'Color', 'Transmission',\n",
       "       'WheelTypeID', 'WheelType', 'VehOdo', 'Nationality', 'Size',\n",
       "       'TopThreeAmericanName', 'MMRAcquisitionAuctionAveragePrice',\n",
       "       'MMRAcquisitionAuctionCleanPrice', 'MMRAcquisitionRetailAveragePrice',\n",
       "       'MMRAcquisitonRetailCleanPrice', 'MMRCurrentAuctionAveragePrice',\n",
       "       'MMRCurrentAuctionCleanPrice', 'MMRCurrentRetailAveragePrice',\n",
       "       'MMRCurrentRetailCleanPrice', 'PRIMEUNIT', 'AUCGUART', 'BYRNO',\n",
       "       'VNZIP1', 'VNST', 'VehBCost', 'IsOnlineSale', 'WarrantyCost'],\n",
       "      dtype='object')"
      ]
     },
     "execution_count": 56,
     "metadata": {},
     "output_type": "execute_result"
    }
   ],
   "source": [
    "fd.columns"
   ]
  },
  {
   "cell_type": "code",
   "execution_count": 77,
   "metadata": {},
   "outputs": [
    {
     "name": "stdout",
     "output_type": "stream",
     "text": [
      "0          0\n",
      "1          1\n",
      "2          2\n",
      "3          3\n",
      "4          4\n",
      "        ... \n",
      "72978     22\n",
      "72979    104\n",
      "72980    103\n",
      "72981     16\n",
      "72982     70\n",
      "Name: Model, Length: 72983, dtype: int64\n"
     ]
    },
    {
     "data": {
      "text/plain": [
       "{'Model':        Model\n",
       " 0          0\n",
       " 1          1\n",
       " 2          2\n",
       " 3          3\n",
       " 4          4\n",
       " ...      ...\n",
       " 72978     22\n",
       " 72979    104\n",
       " 72980    103\n",
       " 72981     16\n",
       " 72982     70\n",
       " \n",
       " [72983 rows x 1 columns]}"
      ]
     },
     "execution_count": 77,
     "metadata": {},
     "output_type": "execute_result"
    }
   ],
   "source": [
    "model = LogisticRegression()\n",
    "# ar = ['Auction', 'VehicleAge','Make', 'Model', 'Trim', 'SubModel', 'Color', 'Transmission','WheelTypeID', 'WheelType', 'VehOdo', 'Nationality', 'Size','TopThreeAmericanName', 'MMRAcquisitionAuctionAveragePrice','MMRAcquisitionAuctionCleanPrice', 'MMRAcquisitionRetailAveragePrice','MMRAcquisitonRetailCleanPrice', 'MMRCurrentAuctionAveragePrice','MMRCurrentAuctionCleanPrice', 'MMRCurrentRetailAveragePrice','MMRCurrentRetailCleanPrice', 'PRIMEUNIT', 'AUCGUART', 'BYRNO','VNZIP1', 'VNST', 'VehBCost', 'IsOnlineSale', 'WarrantyCost']\n",
    "ar = ['Model']\n",
    "X = {}\n",
    "for f in ar:\n",
    "    print(fd[f])\n",
    "    X.__setitem__(f,pd.DataFrame(fd[f]))\n",
    "\n",
    "X\n",
    "\n"
   ]
  },
  {
   "cell_type": "code",
   "execution_count": 73,
   "metadata": {},
   "outputs": [
    {
     "data": {
      "text/plain": [
       "0        0\n",
       "1        0\n",
       "2        0\n",
       "3        0\n",
       "4        0\n",
       "        ..\n",
       "72978    1\n",
       "72979    0\n",
       "72980    0\n",
       "72981    0\n",
       "72982    0\n",
       "Name: IsBadBuy, Length: 72983, dtype: int64"
      ]
     },
     "execution_count": 73,
     "metadata": {},
     "output_type": "execute_result"
    }
   ],
   "source": [
    "fd['IsBadBuy']"
   ]
  },
  {
   "cell_type": "code",
   "execution_count": 78,
   "metadata": {},
   "outputs": [
    {
     "ename": "TypeError",
     "evalue": "unhashable type: 'list'",
     "output_type": "error",
     "traceback": [
      "\u001b[0;31m---------------------------------------------------------------------------\u001b[0m",
      "\u001b[0;31mTypeError\u001b[0m                                 Traceback (most recent call last)",
      "Cell \u001b[0;32mIn[78], line 3\u001b[0m\n\u001b[1;32m      1\u001b[0m \u001b[38;5;66;03m# Fit the model to the data\u001b[39;00m\n\u001b[0;32m----> 3\u001b[0m model\u001b[38;5;241m.\u001b[39mfit(\u001b[43mX\u001b[49m\u001b[43m[\u001b[49m\u001b[43m[\u001b[49m\u001b[38;5;124;43m'\u001b[39;49m\u001b[38;5;124;43mModel\u001b[39;49m\u001b[38;5;124;43m'\u001b[39;49m\u001b[43m]\u001b[49m\u001b[43m]\u001b[49m, fd[\u001b[38;5;124m'\u001b[39m\u001b[38;5;124mIsBadBuy\u001b[39m\u001b[38;5;124m'\u001b[39m])\n",
      "\u001b[0;31mTypeError\u001b[0m: unhashable type: 'list'"
     ]
    }
   ],
   "source": [
    "# Fit the model to the data\n",
    "\n",
    "model.fit(X[['Model']], fd['IsBadBuy'])\n"
   ]
  }
 ],
 "metadata": {
  "kernelspec": {
   "display_name": "Python 3",
   "language": "python",
   "name": "python3"
  },
  "language_info": {
   "codemirror_mode": {
    "name": "ipython",
    "version": 3
   },
   "file_extension": ".py",
   "mimetype": "text/x-python",
   "name": "python",
   "nbconvert_exporter": "python",
   "pygments_lexer": "ipython3",
   "version": "3.12.2"
  }
 },
 "nbformat": 4,
 "nbformat_minor": 2
}
