{
 "cells": [
  {
   "cell_type": "code",
   "execution_count": 3,
   "metadata": {},
   "outputs": [
    {
     "name": "stdout",
     "output_type": "stream",
     "text": [
      "<class 'pandas.core.frame.DataFrame'>\n",
      "RangeIndex: 50 entries, 0 to 49\n",
      "Data columns (total 3 columns):\n",
      " #   Column                  Non-Null Count  Dtype  \n",
      "---  ------                  --------------  -----  \n",
      " 0   S. No.                  50 non-null     int64  \n",
      " 1   Percentage in Grade 10  50 non-null     float64\n",
      " 2   Salary                  50 non-null     int64  \n",
      "dtypes: float64(1), int64(2)\n",
      "memory usage: 1.3 KB\n"
     ]
    }
   ],
   "source": [
    "import pandas as pd\n",
    "import numpy as np\n",
    "\n",
    "data = pd.read_csv('./MBA Salary.csv')\n",
    "data.head(10)\n",
    "data.info()"
   ]
  },
  {
   "cell_type": "code",
   "execution_count": 4,
   "metadata": {},
   "outputs": [
    {
     "data": {
      "text/html": [
       "<div>\n",
       "<style scoped>\n",
       "    .dataframe tbody tr th:only-of-type {\n",
       "        vertical-align: middle;\n",
       "    }\n",
       "\n",
       "    .dataframe tbody tr th {\n",
       "        vertical-align: top;\n",
       "    }\n",
       "\n",
       "    .dataframe thead th {\n",
       "        text-align: right;\n",
       "    }\n",
       "</style>\n",
       "<table border=\"1\" class=\"dataframe\">\n",
       "  <thead>\n",
       "    <tr style=\"text-align: right;\">\n",
       "      <th></th>\n",
       "      <th>const</th>\n",
       "      <th>Percentage in Grade 10</th>\n",
       "    </tr>\n",
       "  </thead>\n",
       "  <tbody>\n",
       "    <tr>\n",
       "      <th>0</th>\n",
       "      <td>1.0</td>\n",
       "      <td>62.00</td>\n",
       "    </tr>\n",
       "    <tr>\n",
       "      <th>1</th>\n",
       "      <td>1.0</td>\n",
       "      <td>76.33</td>\n",
       "    </tr>\n",
       "    <tr>\n",
       "      <th>2</th>\n",
       "      <td>1.0</td>\n",
       "      <td>72.00</td>\n",
       "    </tr>\n",
       "    <tr>\n",
       "      <th>3</th>\n",
       "      <td>1.0</td>\n",
       "      <td>60.00</td>\n",
       "    </tr>\n",
       "    <tr>\n",
       "      <th>4</th>\n",
       "      <td>1.0</td>\n",
       "      <td>61.00</td>\n",
       "    </tr>\n",
       "  </tbody>\n",
       "</table>\n",
       "</div>"
      ],
      "text/plain": [
       "   const  Percentage in Grade 10\n",
       "0    1.0                   62.00\n",
       "1    1.0                   76.33\n",
       "2    1.0                   72.00\n",
       "3    1.0                   60.00\n",
       "4    1.0                   61.00"
      ]
     },
     "execution_count": 4,
     "metadata": {},
     "output_type": "execute_result"
    }
   ],
   "source": [
    "import statsmodels.api as sm\n",
    "X  = sm.add_constant(data['Percentage in Grade 10'])\n",
    "X.head(5)"
   ]
  },
  {
   "cell_type": "code",
   "execution_count": 5,
   "metadata": {},
   "outputs": [],
   "source": [
    "Y = data['Salary']"
   ]
  },
  {
   "cell_type": "code",
   "execution_count": 20,
   "metadata": {},
   "outputs": [],
   "source": [
    "from sklearn.model_selection import train_test_split\n",
    "\n",
    "train_X,test_X,train_y,test_y = train_test_split(X,Y,train_size=.8,random_state=100)"
   ]
  },
  {
   "cell_type": "code",
   "execution_count": 21,
   "metadata": {},
   "outputs": [],
   "source": [
    "data_lm = sm.OLS(train_y,train_X).fit()"
   ]
  },
  {
   "cell_type": "code",
   "execution_count": 22,
   "metadata": {},
   "outputs": [
    {
     "name": "stdout",
     "output_type": "stream",
     "text": [
      "const                     30587.285652\n",
      "Percentage in Grade 10     3560.587383\n",
      "dtype: float64\n"
     ]
    },
    {
     "data": {
      "text/html": [
       "<table class=\"simpletable\">\n",
       "<tr>\n",
       "        <td>Model:</td>               <td>OLS</td>         <td>Adj. R-squared:</td>      <td>0.190</td>  \n",
       "</tr>\n",
       "<tr>\n",
       "  <td>Dependent Variable:</td>      <td>Salary</td>             <td>AIC:</td>          <td>1008.8680</td>\n",
       "</tr>\n",
       "<tr>\n",
       "         <td>Date:</td>        <td>2024-06-05 23:31</td>        <td>BIC:</td>          <td>1012.2458</td>\n",
       "</tr>\n",
       "<tr>\n",
       "   <td>No. Observations:</td>         <td>40</td>          <td>Log-Likelihood:</td>     <td>-502.43</td> \n",
       "</tr>\n",
       "<tr>\n",
       "       <td>Df Model:</td>              <td>1</td>           <td>F-statistic:</td>        <td>10.16</td>  \n",
       "</tr>\n",
       "<tr>\n",
       "     <td>Df Residuals:</td>           <td>38</td>        <td>Prob (F-statistic):</td>   <td>0.00287</td> \n",
       "</tr>\n",
       "<tr>\n",
       "      <td>R-squared:</td>            <td>0.211</td>            <td>Scale:</td>        <td>5.0121e+09</td>\n",
       "</tr>\n",
       "</table>\n",
       "<table class=\"simpletable\">\n",
       "<tr>\n",
       "             <td></td>               <th>Coef.</th>    <th>Std.Err.</th>     <th>t</th>    <th>P>|t|</th>    <th>[0.025</th>      <th>0.975]</th>   \n",
       "</tr>\n",
       "<tr>\n",
       "  <th>const</th>                  <td>30587.2857</td> <td>71869.4497</td> <td>0.4256</td> <td>0.6728</td> <td>-114904.8088</td> <td>176079.3801</td>\n",
       "</tr>\n",
       "<tr>\n",
       "  <th>Percentage in Grade 10</th>  <td>3560.5874</td>  <td>1116.9258</td> <td>3.1878</td> <td>0.0029</td>   <td>1299.4892</td>   <td>5821.6855</td> \n",
       "</tr>\n",
       "</table>\n",
       "<table class=\"simpletable\">\n",
       "<tr>\n",
       "     <td>Omnibus:</td>    <td>2.048</td>  <td>Durbin-Watson:</td>   <td>2.611</td>\n",
       "</tr>\n",
       "<tr>\n",
       "  <td>Prob(Omnibus):</td> <td>0.359</td> <td>Jarque-Bera (JB):</td> <td>1.724</td>\n",
       "</tr>\n",
       "<tr>\n",
       "       <td>Skew:</td>     <td>0.369</td>     <td>Prob(JB):</td>     <td>0.422</td>\n",
       "</tr>\n",
       "<tr>\n",
       "     <td>Kurtosis:</td>   <td>2.300</td>  <td>Condition No.:</td>    <td>413</td> \n",
       "</tr>\n",
       "</table><br/>\n",
       "Notes:<br/>\n",
       "[1] Standard Errors assume that the covariance matrix of the errors is correctly specified."
      ],
      "text/latex": [
       "\\begin{table}\n",
       "\\caption{Results: Ordinary least squares}\n",
       "\\label{}\n",
       "\\begin{center}\n",
       "\\begin{tabular}{llll}\n",
       "\\hline\n",
       "Model:              & OLS              & Adj. R-squared:     & 0.190       \\\\\n",
       "Dependent Variable: & Salary           & AIC:                & 1008.8680   \\\\\n",
       "Date:               & 2024-06-05 23:31 & BIC:                & 1012.2458   \\\\\n",
       "No. Observations:   & 40               & Log-Likelihood:     & -502.43     \\\\\n",
       "Df Model:           & 1                & F-statistic:        & 10.16       \\\\\n",
       "Df Residuals:       & 38               & Prob (F-statistic): & 0.00287     \\\\\n",
       "R-squared:          & 0.211            & Scale:              & 5.0121e+09  \\\\\n",
       "\\hline\n",
       "\\end{tabular}\n",
       "\\end{center}\n",
       "\n",
       "\\begin{center}\n",
       "\\begin{tabular}{lrrrrrr}\n",
       "\\hline\n",
       "                       &      Coef. &   Std.Err. &      t & P$> |$t$|$ &       [0.025 &      0.975]  \\\\\n",
       "\\hline\n",
       "const                  & 30587.2857 & 71869.4497 & 0.4256 &      0.6728 & -114904.8088 & 176079.3801  \\\\\n",
       "Percentage in Grade 10 &  3560.5874 &  1116.9258 & 3.1878 &      0.0029 &    1299.4892 &   5821.6855  \\\\\n",
       "\\hline\n",
       "\\end{tabular}\n",
       "\\end{center}\n",
       "\n",
       "\\begin{center}\n",
       "\\begin{tabular}{llll}\n",
       "\\hline\n",
       "Omnibus:       & 2.048 & Durbin-Watson:    & 2.611  \\\\\n",
       "Prob(Omnibus): & 0.359 & Jarque-Bera (JB): & 1.724  \\\\\n",
       "Skew:          & 0.369 & Prob(JB):         & 0.422  \\\\\n",
       "Kurtosis:      & 2.300 & Condition No.:    & 413    \\\\\n",
       "\\hline\n",
       "\\end{tabular}\n",
       "\\end{center}\n",
       "\\end{table}\n",
       "\\bigskip\n",
       "Notes: \\newline \n",
       "[1] Standard Errors assume that the covariance matrix of the errors is correctly specified."
      ],
      "text/plain": [
       "<class 'statsmodels.iolib.summary2.Summary'>\n",
       "\"\"\"\n",
       "                          Results: Ordinary least squares\n",
       "===================================================================================\n",
       "Model:                    OLS                   Adj. R-squared:          0.190     \n",
       "Dependent Variable:       Salary                AIC:                     1008.8680 \n",
       "Date:                     2024-06-05 23:31      BIC:                     1012.2458 \n",
       "No. Observations:         40                    Log-Likelihood:          -502.43   \n",
       "Df Model:                 1                     F-statistic:             10.16     \n",
       "Df Residuals:             38                    Prob (F-statistic):      0.00287   \n",
       "R-squared:                0.211                 Scale:                   5.0121e+09\n",
       "-----------------------------------------------------------------------------------\n",
       "                         Coef.     Std.Err.    t    P>|t|     [0.025       0.975]  \n",
       "-----------------------------------------------------------------------------------\n",
       "const                  30587.2857 71869.4497 0.4256 0.6728 -114904.8088 176079.3801\n",
       "Percentage in Grade 10  3560.5874  1116.9258 3.1878 0.0029    1299.4892   5821.6855\n",
       "-----------------------------------------------------------------------------------\n",
       "Omnibus:                    2.048              Durbin-Watson:                 2.611\n",
       "Prob(Omnibus):              0.359              Jarque-Bera (JB):              1.724\n",
       "Skew:                       0.369              Prob(JB):                      0.422\n",
       "Kurtosis:                   2.300              Condition No.:                 413  \n",
       "===================================================================================\n",
       "Notes:\n",
       "[1] Standard Errors assume that the covariance matrix of the errors is correctly\n",
       "specified.\n",
       "\"\"\""
      ]
     },
     "execution_count": 22,
     "metadata": {},
     "output_type": "execute_result"
    }
   ],
   "source": [
    "print(data_lm.params)\n",
    "data_lm.summary2()"
   ]
  },
  {
   "cell_type": "code",
   "execution_count": 31,
   "metadata": {},
   "outputs": [
    {
     "data": {
      "text/plain": [
       "<Figure size 800x600 with 0 Axes>"
      ]
     },
     "metadata": {},
     "output_type": "display_data"
    },
    {
     "data": {
      "image/png": "[encoded data removed]",
      "text/plain": [
       "<Figure size 640x480 with 1 Axes>"
      ]
     },
     "metadata": {},
     "output_type": "display_data"
    }
   ],
   "source": [
    "import matplotlib.pyplot as plt\n",
    "import seaborn as sn\n",
    "%matplotlib inline\n",
    "\n",
    "\n",
    "probplot = sm.ProbPlot(data_lm.resid)\n",
    "plt.figure( figsize = (8, 6) )\n",
    "probplot.ppplot( line='45' )\n",
    "plt.title( \"Fig 4.1 - Normal P-P Plot of Regression Standardized Residuals\" )\n",
    "plt.show()"
   ]
  }
 ],
 "metadata": {
  "kernelspec": {
   "display_name": "Python 3",
   "language": "python",
   "name": "python3"
  },
  "language_info": {
   "codemirror_mode": {
    "name": "ipython",
    "version": 3
   },
   "file_extension": ".py",
   "mimetype": "text/x-python",
   "name": "python",
   "nbconvert_exporter": "python",
   "pygments_lexer": "ipython3",
   "version": "3.12.2"
  }
 },
 "nbformat": 4,
 "nbformat_minor": 2
}
